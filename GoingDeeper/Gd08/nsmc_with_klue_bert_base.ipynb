{
 "cells": [
  {
   "cell_type": "markdown",
   "id": "20c6bb19",
   "metadata": {},
   "source": [
    "# HuggingFace 커스텀 프로젝트\n",
    "- model(klue/ber-base)를 활용하여 NSMC(Naver Sentiment Movie Corpus) task\n",
    "- baseline 과 bucketing 적용시 비교"
   ]
  },
  {
   "cell_type": "code",
   "execution_count": 1,
   "id": "2a1dbb32",
   "metadata": {},
   "outputs": [
    {
     "name": "stdout",
     "output_type": "stream",
     "text": [
      "2.6.0\n",
      "1.21.4\n",
      "4.11.3\n",
      "1.14.0\n"
     ]
    }
   ],
   "source": [
    "import tensorflow\n",
    "\n",
    "import numpy as np\n",
    "\n",
    "import transformers\n",
    "from transformers import AutoTokenizer, AutoModelForSequenceClassification\n",
    "from transformers import DataCollatorWithPadding, Trainer\n",
    "from transformers import Trainer, TrainingArguments\n",
    "\n",
    "import datasets\n",
    "from datasets import load_dataset, Dataset, load_metric\n",
    "\n",
    "import os\n",
    "import torch\n",
    "import gc\n",
    "\n",
    "import matplotlib.pyplot as plt\n",
    "import pandas as pd\n",
    "\n",
    "\n",
    "import copy\n",
    "\n",
    "print(tensorflow.__version__)\n",
    "print(np.__version__)\n",
    "print(transformers.__version__)\n",
    "print(datasets.__version__)\n",
    "\n"
   ]
  },
  {
   "cell_type": "markdown",
   "id": "ddda6b0e",
   "metadata": {},
   "source": [
    "## 함수 및 클래스"
   ]
  },
  {
   "cell_type": "code",
   "execution_count": null,
   "id": "330e27d9",
   "metadata": {},
   "outputs": [],
   "source": [
    "# 중복 제거를 위한 인덱스 수집\n",
    "def get_unique_indices(dataset):\n",
    "    unique_texts = set()\n",
    "    unique_indices = []\n",
    "    for i, sample in enumerate(dataset):\n",
    "        if sample['document'] not in unique_texts:\n",
    "            unique_texts.add(sample['document'])\n",
    "            unique_indices.append(i)\n",
    "    return unique_indices\n",
    "\n",
    "# NaN 제거를 위한 필터링 함수\n",
    "def is_valid_sample(sample):\n",
    "    return (sample['document'] is not None and \n",
    "            isinstance(sample['document'], str) and \n",
    "            sample['document'].strip() != \"\" and\n",
    "            sample['label'] is not None)\n",
    "\n",
    "# 길이 필터링\n",
    "def is_valid_length(example):\n",
    "    tokens = tokenizer(\n",
    "        example['document'], \n",
    "        truncation=False, \n",
    "        padding=False,\n",
    "        return_attention_mask=False,\n",
    "        return_token_type_ids=False\n",
    "    )\n",
    "    return len(tokens['input_ids']) <= 120\n",
    "\n",
    "# 토큰 길이 반환\n",
    "def get_token_length(example):\n",
    "    # padding=False, truncation=False 로 순수 토큰 길이만 반환\n",
    "    return {\"length\": len(tokenizer(example[\"document\"], \n",
    "                                    truncation=False, \n",
    "                                    padding=False)[\"input_ids\"])}\n",
    "# 토큰화\n",
    "def transform(data):\n",
    "    return tokenizer(\n",
    "        data['document'],\n",
    "        truncation=True,  # 혹시 몰라서 True\n",
    "        padding='max_length',\n",
    "        max_length=120,\n",
    "        return_token_type_ids=False,\n",
    "    )\n",
    "def transform_without_padding(data):\n",
    "    return tokenizer(\n",
    "        data['document'],\n",
    "        truncation=True,\n",
    "        padding=False,\n",
    "        max_length=120,\n",
    "        return_token_type_ids=False,\n",
    "    )\n",
    "\n",
    "accuracy_metric = load_metric('accuracy')\n",
    "f1_metric = load_metric('f1')\n",
    "\n",
    "def compute_metrics(eval_pred):\n",
    "    logits, labels = eval_pred\n",
    "    predictions = np.argmax(logits, axis=-1)\n",
    "    accuracy = accuracy_metric.compute(predictions=predictions, references=labels)['accuracy']\n",
    "    f1 = f1_metric.compute(predictions=predictions, references=labels, average='weighted')['f1']\n",
    "    return {\n",
    "        'accuracy': accuracy,\n",
    "        'f1': f1,\n",
    "    }\n",
    "\n",
    "# 패딩 통계\n",
    "def pdding_stat_batch(dataloader):\n",
    "    # 각 배치별 통계 계산 (동적 패딩 + 고정 120 길이 패딩)\n",
    "    FIXED_MAX_LEN = 120\n",
    "    batch_stats = []\n",
    "    for batch in dataloader:\n",
    "        lengths = batch[\"attention_mask\"].sum(dim=1).cpu().numpy()\n",
    "        batch_size, seq_len = batch[\"input_ids\"].shape\n",
    "\n",
    "        # 동적 패딩 per-seq\n",
    "        pad_per_seq = seq_len - lengths\n",
    "        # 고정 패딩 per-seq\n",
    "        pad_per_seq_fixed = FIXED_MAX_LEN - lengths\n",
    "\n",
    "        batch_stats.append({\n",
    "            \"min_len\":           int(lengths.min()),\n",
    "            \"max_len\":           int(lengths.max()),\n",
    "            \"avg_len\":           float(lengths.mean()),\n",
    "            \"pad_min\":           int(pad_per_seq.min()),\n",
    "            \"pad_max\":           int(pad_per_seq.max()),\n",
    "            \"pad_avg\":           float(pad_per_seq.mean()),\n",
    "            \"fixed_pad_min\":     int(pad_per_seq_fixed.min()),\n",
    "            \"fixed_pad_max\":     int(pad_per_seq_fixed.max()),\n",
    "            \"fixed_pad_avg\":     float(pad_per_seq_fixed.mean()),\n",
    "        })\n",
    "\n",
    "    # DataFrame 생성\n",
    "    return pd.DataFrame(batch_stats)\n",
    "\n",
    "# 패딩 통계 시각화\n",
    "def plot_padding_stat_batch(df_stats):\n",
    "    # 3행 3열 히스토그램 그리기\n",
    "    fig, axes = plt.subplots(3, 3, figsize=(15, 12))\n",
    "\n",
    "    # Row 1: token lengths\n",
    "    axes[0, 0].hist(df_stats[\"min_len\"], bins=30); axes[0, 0].set_title(\"Min Token Length\")\n",
    "    axes[0, 1].hist(df_stats[\"max_len\"], bins=30); axes[0, 1].set_title(\"Max Token Length\")\n",
    "    axes[0, 2].hist(df_stats[\"avg_len\"], bins=30); axes[0, 2].set_title(\"Avg Token Length\")\n",
    "\n",
    "    # Row 2: dynamic padding\n",
    "    axes[1, 0].hist(df_stats[\"pad_min\"], bins=30); axes[1, 0].set_title(\"Min Dynamic Padding\")\n",
    "    axes[1, 1].hist(df_stats[\"pad_max\"], bins=30); axes[1, 1].set_title(\"Max Dynamic Padding\")\n",
    "    axes[1, 2].hist(df_stats[\"pad_avg\"], bins=30); axes[1, 2].set_title(\"Avg Dynamic Padding\")\n",
    "\n",
    "    # Row 3: fixed 120 padding\n",
    "    axes[2, 0].hist(df_stats[\"fixed_pad_min\"], bins=30); axes[2, 0].set_title(\"Min Fixed Padding\")\n",
    "    axes[2, 1].hist(df_stats[\"fixed_pad_max\"], bins=30); axes[2, 1].set_title(\"Max Fixed Padding\")\n",
    "    axes[2, 2].hist(df_stats[\"fixed_pad_avg\"], bins=30); axes[2, 2].set_title(\"Avg Fixed Padding\")\n",
    "\n",
    "    for ax in axes.flatten():\n",
    "        ax.set_xlabel(\"Count\")\n",
    "        ax.set_ylabel(\"Frequency\")\n",
    "\n",
    "    plt.tight_layout()\n",
    "    plt.show()"
   ]
  },
  {
   "cell_type": "markdown",
   "id": "a77d7b1d",
   "metadata": {},
   "source": [
    "## NSMC 데이터 준비"
   ]
  },
  {
   "cell_type": "code",
   "execution_count": 3,
   "id": "c59e0238",
   "metadata": {
    "scrolled": false
   },
   "outputs": [
    {
     "name": "stderr",
     "output_type": "stream",
     "text": [
      "Using custom data configuration default\n",
      "Reusing dataset nsmc (/aiffel/.cache/huggingface/datasets/nsmc/default/1.1.0/bfd4729bf1a67114e5267e6916b9e4807010aeb238e4a3c2b95fbfa3a014b5f3)\n"
     ]
    },
    {
     "data": {
      "application/vnd.jupyter.widget-view+json": {
       "model_id": "23efbdfda34f4aefa684d73c0fd1526a",
       "version_major": 2,
       "version_minor": 0
      },
      "text/plain": [
       "  0%|          | 0/2 [00:00<?, ?it/s]"
      ]
     },
     "metadata": {},
     "output_type": "display_data"
    },
    {
     "name": "stdout",
     "output_type": "stream",
     "text": [
      "DatasetDict({\n",
      "    train: Dataset({\n",
      "        features: ['id', 'document', 'label'],\n",
      "        num_rows: 150000\n",
      "    })\n",
      "    test: Dataset({\n",
      "        features: ['id', 'document', 'label'],\n",
      "        num_rows: 50000\n",
      "    })\n",
      "})\n"
     ]
    }
   ],
   "source": [
    "nsmc = load_dataset(\"nsmc\")\n",
    "print(nsmc)"
   ]
  },
  {
   "cell_type": "markdown",
   "id": "63d5f5c6",
   "metadata": {},
   "source": [
    "## klue/bert-base model 및 tokenizer 준비"
   ]
  },
  {
   "cell_type": "code",
   "execution_count": 4,
   "id": "ee6afd2b",
   "metadata": {},
   "outputs": [
    {
     "name": "stderr",
     "output_type": "stream",
     "text": [
      "Some weights of the model checkpoint at klue/bert-base were not used when initializing BertForSequenceClassification: ['cls.predictions.decoder.bias', 'cls.predictions.transform.LayerNorm.bias', 'cls.seq_relationship.weight', 'cls.predictions.bias', 'cls.predictions.transform.dense.weight', 'cls.predictions.transform.LayerNorm.weight', 'cls.predictions.decoder.weight', 'cls.predictions.transform.dense.bias', 'cls.seq_relationship.bias']\n",
      "- This IS expected if you are initializing BertForSequenceClassification from the checkpoint of a model trained on another task or with another architecture (e.g. initializing a BertForSequenceClassification model from a BertForPreTraining model).\n",
      "- This IS NOT expected if you are initializing BertForSequenceClassification from the checkpoint of a model that you expect to be exactly identical (initializing a BertForSequenceClassification model from a BertForSequenceClassification model).\n",
      "Some weights of BertForSequenceClassification were not initialized from the model checkpoint at klue/bert-base and are newly initialized: ['classifier.bias', 'classifier.weight']\n",
      "You should probably TRAIN this model on a down-stream task to be able to use it for predictions and inference.\n"
     ]
    }
   ],
   "source": [
    "tokenizer = AutoTokenizer.from_pretrained('klue/bert-base')\n",
    "model = AutoModelForSequenceClassification.from_pretrained('klue/bert-base', num_labels = 2)"
   ]
  },
  {
   "cell_type": "markdown",
   "id": "3e695f7d",
   "metadata": {},
   "source": [
    "## 데이터 전처리\n",
    "- 이전 프로젝트에서 사용했던 데이터셋이라 EDA 과정없이 해당 프로젝트 내용을 참고하여 빠르게 전처리함"
   ]
  },
  {
   "cell_type": "code",
   "execution_count": 5,
   "id": "858c878e",
   "metadata": {},
   "outputs": [
    {
     "name": "stderr",
     "output_type": "stream",
     "text": [
      "Loading cached processed dataset at /aiffel/.cache/huggingface/datasets/nsmc/default/1.1.0/bfd4729bf1a67114e5267e6916b9e4807010aeb238e4a3c2b95fbfa3a014b5f3/cache-cdeccbb74cd9f170.arrow\n",
      "Loading cached processed dataset at /aiffel/.cache/huggingface/datasets/nsmc/default/1.1.0/bfd4729bf1a67114e5267e6916b9e4807010aeb238e4a3c2b95fbfa3a014b5f3/cache-1d55ce25ca7104ed.arrow\n"
     ]
    },
    {
     "name": "stdout",
     "output_type": "stream",
     "text": [
      "Original train size: 150000\n",
      "After removing duplicates: 146183\n",
      "After removing NaN: 146182\n",
      "Final train size: 146176\n",
      "Test size: 50000\n",
      "Train type: <class 'datasets.arrow_dataset.Dataset'>\n",
      "Test type: <class 'datasets.arrow_dataset.Dataset'>\n"
     ]
    }
   ],
   "source": [
    "# 1단계: 중복 제거\n",
    "unique_indices = get_unique_indices(nsmc['train'])\n",
    "train_no_duplicates = nsmc['train'].select(unique_indices)\n",
    "\n",
    "# 2단계: NaN 제거\n",
    "train_nan = train_no_duplicates.filter(is_valid_sample)\n",
    "\n",
    "# 3단계: 토큰 길이 필터링 \n",
    "train = train_nan.filter(is_valid_length)\n",
    "test = nsmc['test']\n",
    "\n",
    "print(f\"Original train size: {len(nsmc['train'])}\")\n",
    "print(f\"After removing duplicates: {len(train_no_duplicates)}\")\n",
    "print(f\"After removing NaN: {len(train_nan)}\")\n",
    "print(f\"Final train size: {len(train)}\")\n",
    "print(f\"Test size: {len(test)}\")\n",
    "print(f\"Train type: {type(train)}\")\n",
    "print(f\"Test type: {type(test)}\")"
   ]
  },
  {
   "cell_type": "code",
   "execution_count": 6,
   "id": "d31f2f80",
   "metadata": {},
   "outputs": [
    {
     "data": {
      "text/plain": [
       "['id', 'document', 'label']"
      ]
     },
     "execution_count": 6,
     "metadata": {},
     "output_type": "execute_result"
    }
   ],
   "source": [
    "train_cols = train.column_names\n",
    "test_cols = test.column_names\n",
    "train_cols"
   ]
  },
  {
   "cell_type": "code",
   "execution_count": 7,
   "id": "ad29c356",
   "metadata": {},
   "outputs": [
    {
     "name": "stdout",
     "output_type": "stream",
     "text": [
      "id : 9976970\n",
      "document : 아 더빙.. 진짜 짜증나네요 목소리\n",
      "label : 0\n",
      "\n",
      "\n",
      "id : 3819312\n",
      "document : 흠...포스터보고 초딩영화줄....오버연기조차 가볍지 않구나\n",
      "label : 1\n",
      "\n",
      "\n",
      "id : 10265843\n",
      "document : 너무재밓었다그래서보는것을추천한다\n",
      "label : 0\n",
      "\n",
      "\n",
      "id : 9045019\n",
      "document : 교도소 이야기구먼 ..솔직히 재미는 없다..평점 조정\n",
      "label : 0\n",
      "\n",
      "\n",
      "id : 6483659\n",
      "document : 사이몬페그의 익살스런 연기가 돋보였던 영화!스파이더맨에서 늙어보이기만 했던 커스틴 던스트가 너무나도 이뻐보였다\n",
      "label : 1\n",
      "\n",
      "\n"
     ]
    }
   ],
   "source": [
    "for i in range(5):\n",
    "    for col in train_cols:\n",
    "        print(col, \":\", train[col][i])\n",
    "    print('\\n')\n",
    "    "
   ]
  },
  {
   "cell_type": "markdown",
   "id": "b5090a66",
   "metadata": {},
   "source": [
    "## 토큰화 및 훈련/테스트 토큰 길이 분포 확인\n",
    "- 데이터의 길이가 짧은 길이가 많은편 -> 동적 패딩시 얻는 이득이 많을 것으로 예상됨"
   ]
  },
  {
   "cell_type": "code",
   "execution_count": 8,
   "id": "5f98d9b8",
   "metadata": {},
   "outputs": [
    {
     "name": "stderr",
     "output_type": "stream",
     "text": [
      "Loading cached processed dataset at /aiffel/.cache/huggingface/datasets/nsmc/default/1.1.0/bfd4729bf1a67114e5267e6916b9e4807010aeb238e4a3c2b95fbfa3a014b5f3/cache-226aa62988fd1aeb.arrow\n",
      "Loading cached processed dataset at /aiffel/.cache/huggingface/datasets/nsmc/default/1.1.0/bfd4729bf1a67114e5267e6916b9e4807010aeb238e4a3c2b95fbfa3a014b5f3/cache-ee85d2fe1ccb23ab.arrow\n"
     ]
    }
   ],
   "source": [
    "train_tokenized = train.map(transform, batched=True)\n",
    "test_tokenized = test.map(transform, batched=True)"
   ]
  },
  {
   "cell_type": "code",
   "execution_count": 41,
   "id": "c76a2a6a",
   "metadata": {},
   "outputs": [
    {
     "name": "stdout",
     "output_type": "stream",
     "text": [
      "  Dataset  Min Length  Max Length  Avg Length\n",
      "0   Train           3         120   22.713387\n",
      "1    Test           2         120   22.359720\n"
     ]
    },
    {
     "data": {
      "image/png": "[encoded data removed]",
      "text/plain": [
       "<Figure size 864x360 with 2 Axes>"
      ]
     },
     "metadata": {
      "needs_background": "light"
     },
     "output_type": "display_data"
    }
   ],
   "source": [
    "# 1) 토큰 길이 리스트 생성\n",
    "train_lengths = [len(ids) for ids in train_tokenized['input_ids']]\n",
    "test_lengths  = [len(ids) for ids in test_tokenized['input_ids']]\n",
    "\n",
    "# 2) 요약 통계 계산\n",
    "stats = pd.DataFrame({\n",
    "    'Dataset':    ['Train', 'Test'],\n",
    "    'Min Length': [min(train_lengths), min(test_lengths)],\n",
    "    'Max Length': [max(train_lengths), max(test_lengths)],\n",
    "    'Avg Length': [sum(train_lengths)/len(train_lengths), sum(test_lengths)/len(test_lengths)],\n",
    "})\n",
    "print(stats)\n",
    "\n",
    "# 3) 분포 시각화\n",
    "fig, axes = plt.subplots(1, 2, figsize=(12, 5))\n",
    "\n",
    "axes[0].hist(train_lengths, bins=50)\n",
    "axes[0].set_title(\"Train Token Length Distribution\")\n",
    "axes[0].set_xlabel(\"Token Length\")\n",
    "axes[0].set_ylabel(\"Frequency\")\n",
    "\n",
    "axes[1].hist(test_lengths, bins=50)\n",
    "axes[1].set_title(\"Test Token Length Distribution\")\n",
    "axes[1].set_xlabel(\"Token Length\")\n",
    "axes[1].set_ylabel(\"Frequency\")\n",
    "\n",
    "plt.tight_layout()\n",
    "plt.show()"
   ]
  },
  {
   "cell_type": "markdown",
   "id": "2e35d337",
   "metadata": {},
   "source": [
    "## 모델 학습 ( 기본 )"
   ]
  },
  {
   "cell_type": "code",
   "execution_count": 9,
   "id": "f7889c4c",
   "metadata": {},
   "outputs": [],
   "source": [
    "output_dir = './transformers'\n",
    "\n",
    "training_arguments = TrainingArguments(\n",
    "    output_dir,        # output이 저장될 경로\n",
    "    num_train_epochs=3,\n",
    "    \n",
    "    # 배치 크기 (GPU 메모리에 따라 조정)\n",
    "    per_device_train_batch_size=128,  \n",
    "    per_device_eval_batch_size=128, \n",
    "    \n",
    "    # 학습률 관련 \n",
    "    learning_rate=2e-5,  \n",
    "    warmup_ratio=0.1,  # 전체 step의 10% 워밍업\n",
    "    \n",
    "    # 정규화\n",
    "    weight_decay=0.01,  # 과적합 방지\n",
    "    \n",
    "    # 평가 및 저장\n",
    "    evaluation_strategy=\"epoch\",\n",
    "    save_strategy=\"epoch\",\n",
    "    load_best_model_at_end=True,\n",
    "    metric_for_best_model=\"f1\",\n",
    "    greater_is_better=True,\n",
    "    save_total_limit=2, \n",
    "    \n",
    "    # 기타\n",
    "    fp16=True,\n",
    "    seed=42,# weight decay\n",
    "    report_to=[]\n",
    ")"
   ]
  },
  {
   "cell_type": "code",
   "execution_count": 11,
   "id": "4a874c8c",
   "metadata": {},
   "outputs": [
    {
     "name": "stderr",
     "output_type": "stream",
     "text": [
      "Loading cached split indices for dataset at /aiffel/.cache/huggingface/datasets/nsmc/default/1.1.0/bfd4729bf1a67114e5267e6916b9e4807010aeb238e4a3c2b95fbfa3a014b5f3/cache-d3ba110107d36715.arrow and /aiffel/.cache/huggingface/datasets/nsmc/default/1.1.0/bfd4729bf1a67114e5267e6916b9e4807010aeb238e4a3c2b95fbfa3a014b5f3/cache-73cd491a853e9b34.arrow\n",
      "Using amp fp16 backend\n"
     ]
    }
   ],
   "source": [
    "train_val_split = train_tokenized.train_test_split(test_size=0.2, seed=42)\n",
    "trainer = Trainer(\n",
    "    model=model,                    # 사전 정의된 모델\n",
    "    args=training_arguments,        # 훈련 설정\n",
    "    train_dataset=train_val_split['train'],     # 훈련용\n",
    "    eval_dataset=train_val_split['test'],       # 검증용\n",
    "    compute_metrics=compute_metrics, # 평가 메트릭 함수\n",
    "    tokenizer=tokenizer,            # 토크나이저 (저장시 필요)\n",
    ")\n"
   ]
  },
  {
   "cell_type": "code",
   "execution_count": 12,
   "id": "37a23073",
   "metadata": {
    "scrolled": false
   },
   "outputs": [
    {
     "name": "stderr",
     "output_type": "stream",
     "text": [
      "The following columns in the training set  don't have a corresponding argument in `BertForSequenceClassification.forward` and have been ignored: document, id.\n",
      "***** Running training *****\n",
      "  Num examples = 116940\n",
      "  Num Epochs = 3\n",
      "  Instantaneous batch size per device = 128\n",
      "  Total train batch size (w. parallel, distributed & accumulation) = 128\n",
      "  Gradient Accumulation steps = 1\n",
      "  Total optimization steps = 2742\n"
     ]
    },
    {
     "data": {
      "text/html": [
       "\n",
       "    <div>\n",
       "      \n",
       "      <progress value='2742' max='2742' style='width:300px; height:20px; vertical-align: middle;'></progress>\n",
       "      [2742/2742 59:47, Epoch 3/3]\n",
       "    </div>\n",
       "    <table border=\"1\" class=\"dataframe\">\n",
       "  <thead>\n",
       "    <tr style=\"text-align: left;\">\n",
       "      <th>Epoch</th>\n",
       "      <th>Training Loss</th>\n",
       "      <th>Validation Loss</th>\n",
       "      <th>Accuracy</th>\n",
       "      <th>F1</th>\n",
       "    </tr>\n",
       "  </thead>\n",
       "  <tbody>\n",
       "    <tr>\n",
       "      <td>1</td>\n",
       "      <td>0.361400</td>\n",
       "      <td>0.246581</td>\n",
       "      <td>0.898037</td>\n",
       "      <td>0.897978</td>\n",
       "    </tr>\n",
       "    <tr>\n",
       "      <td>2</td>\n",
       "      <td>0.209400</td>\n",
       "      <td>0.253405</td>\n",
       "      <td>0.898139</td>\n",
       "      <td>0.898003</td>\n",
       "    </tr>\n",
       "    <tr>\n",
       "      <td>3</td>\n",
       "      <td>0.161100</td>\n",
       "      <td>0.248408</td>\n",
       "      <td>0.905356</td>\n",
       "      <td>0.905354</td>\n",
       "    </tr>\n",
       "  </tbody>\n",
       "</table><p>"
      ],
      "text/plain": [
       "<IPython.core.display.HTML object>"
      ]
     },
     "metadata": {},
     "output_type": "display_data"
    },
    {
     "name": "stderr",
     "output_type": "stream",
     "text": [
      "The following columns in the evaluation set  don't have a corresponding argument in `BertForSequenceClassification.forward` and have been ignored: document, id.\n",
      "***** Running Evaluation *****\n",
      "  Num examples = 29236\n",
      "  Batch size = 128\n",
      "Saving model checkpoint to ./transformers/checkpoint-914\n",
      "Configuration saved in ./transformers/checkpoint-914/config.json\n",
      "Model weights saved in ./transformers/checkpoint-914/pytorch_model.bin\n",
      "tokenizer config file saved in ./transformers/checkpoint-914/tokenizer_config.json\n",
      "Special tokens file saved in ./transformers/checkpoint-914/special_tokens_map.json\n",
      "The following columns in the evaluation set  don't have a corresponding argument in `BertForSequenceClassification.forward` and have been ignored: document, id.\n",
      "***** Running Evaluation *****\n",
      "  Num examples = 29236\n",
      "  Batch size = 128\n",
      "Saving model checkpoint to ./transformers/checkpoint-1828\n",
      "Configuration saved in ./transformers/checkpoint-1828/config.json\n",
      "Model weights saved in ./transformers/checkpoint-1828/pytorch_model.bin\n",
      "tokenizer config file saved in ./transformers/checkpoint-1828/tokenizer_config.json\n",
      "Special tokens file saved in ./transformers/checkpoint-1828/special_tokens_map.json\n",
      "/opt/conda/lib/python3.9/site-packages/transformers/trainer.py:1355: FutureWarning: Non-finite norm encountered in torch.nn.utils.clip_grad_norm_; continuing anyway. Note that the default behavior will change in a future release to error out if a non-finite total norm is encountered. At that point, setting error_if_nonfinite=false will be required to retain the old behavior.\n",
      "  nn.utils.clip_grad_norm_(\n",
      "The following columns in the evaluation set  don't have a corresponding argument in `BertForSequenceClassification.forward` and have been ignored: document, id.\n",
      "***** Running Evaluation *****\n",
      "  Num examples = 29236\n",
      "  Batch size = 128\n",
      "Saving model checkpoint to ./transformers/checkpoint-2742\n",
      "Configuration saved in ./transformers/checkpoint-2742/config.json\n",
      "Model weights saved in ./transformers/checkpoint-2742/pytorch_model.bin\n",
      "tokenizer config file saved in ./transformers/checkpoint-2742/tokenizer_config.json\n",
      "Special tokens file saved in ./transformers/checkpoint-2742/special_tokens_map.json\n",
      "Deleting older checkpoint [transformers/checkpoint-914] due to args.save_total_limit\n",
      "\n",
      "\n",
      "Training completed. Do not forget to share your model on huggingface.co/models =)\n",
      "\n",
      "\n",
      "Loading best model from ./transformers/checkpoint-2742 (score: 0.9053543161362303).\n"
     ]
    },
    {
     "data": {
      "text/plain": [
       "TrainOutput(global_step=2742, training_loss=0.23066589277561, metrics={'train_runtime': 3589.1197, 'train_samples_per_second': 97.745, 'train_steps_per_second': 0.764, 'total_flos': 2.1633895415952e+16, 'train_loss': 0.23066589277561, 'epoch': 3.0})"
      ]
     },
     "execution_count": 12,
     "metadata": {},
     "output_type": "execute_result"
    }
   ],
   "source": [
    "# GPU 메모리 정리\n",
    "torch.cuda.empty_cache()\n",
    "gc.collect()\n",
    "\n",
    "trainer.train()"
   ]
  },
  {
   "cell_type": "markdown",
   "id": "5c5c2ef1",
   "metadata": {},
   "source": [
    "## 모델 평가 ( 기본 )"
   ]
  },
  {
   "cell_type": "code",
   "execution_count": 15,
   "id": "08e44339",
   "metadata": {},
   "outputs": [
    {
     "name": "stderr",
     "output_type": "stream",
     "text": [
      "The following columns in the evaluation set  don't have a corresponding argument in `BertForSequenceClassification.forward` and have been ignored: document, id.\n",
      "***** Running Evaluation *****\n",
      "  Num examples = 50000\n",
      "  Batch size = 128\n"
     ]
    },
    {
     "data": {
      "text/html": [
       "\n",
       "    <div>\n",
       "      \n",
       "      <progress value='391' max='391' style='width:300px; height:20px; vertical-align: middle;'></progress>\n",
       "      [391/391 07:09]\n",
       "    </div>\n",
       "    "
      ],
      "text/plain": [
       "<IPython.core.display.HTML object>"
      ]
     },
     "metadata": {},
     "output_type": "display_data"
    }
   ],
   "source": [
    "eval_metrics = trainer.evaluate(test_tokenized)"
   ]
  },
  {
   "cell_type": "code",
   "execution_count": 16,
   "id": "0205536d",
   "metadata": {},
   "outputs": [
    {
     "data": {
      "text/plain": [
       "{'eval_loss': 0.2582551836967468,\n",
       " 'eval_accuracy': 0.90184,\n",
       " 'eval_f1': 0.9018317078654844,\n",
       " 'eval_runtime': 430.6607,\n",
       " 'eval_samples_per_second': 116.101,\n",
       " 'eval_steps_per_second': 0.908,\n",
       " 'epoch': 3.0}"
      ]
     },
     "execution_count": 16,
     "metadata": {},
     "output_type": "execute_result"
    }
   ],
   "source": [
    "eval_metrics"
   ]
  },
  {
   "cell_type": "markdown",
   "id": "17055510",
   "metadata": {},
   "source": [
    "## 버켓팅 적용 데이터 준비"
   ]
  },
  {
   "cell_type": "code",
   "execution_count": 25,
   "id": "c274ca44",
   "metadata": {},
   "outputs": [
    {
     "name": "stderr",
     "output_type": "stream",
     "text": [
      "Loading cached processed dataset at /aiffel/.cache/huggingface/datasets/nsmc/default/1.1.0/bfd4729bf1a67114e5267e6916b9e4807010aeb238e4a3c2b95fbfa3a014b5f3/cache-26f336632953e275.arrow\n"
     ]
    },
    {
     "name": "stdout",
     "output_type": "stream",
     "text": [
      "NSMC test set maximum token length: 122\n"
     ]
    }
   ],
   "source": [
    "lengths = nsmc[\"test\"].map(get_token_length, batched=False)\n",
    "\n",
    "#  최대 길이 추출\n",
    "max_length = max(lengths[\"length\"])\n",
    "print(f\"NSMC test set maximum token length: {max_length}\")"
   ]
  },
  {
   "cell_type": "code",
   "execution_count": 37,
   "id": "826f904e",
   "metadata": {},
   "outputs": [
    {
     "data": {
      "text/plain": [
       "0"
      ]
     },
     "execution_count": 37,
     "metadata": {},
     "output_type": "execute_result"
    }
   ],
   "source": [
    "# 기존 객체 해제 - 메모리 문제 발생으로 추가\n",
    "for name in [\n",
    "    \"model\", \"trainer\", \"exp_args\", \"model_for_bucket_exp\", \"trainer_with_bucket\",\n",
    "    \"train_val_split\", \"train_dataloader\",\n",
    "    \"eval_dataloader\", \"train_tokenized\", \"test_tokenized\"\n",
    "]:\n",
    "    if name in globals():\n",
    "        del globals()[name]\n",
    "# 메모리·캐시 정리\n",
    "torch.cuda.empty_cache()\n",
    "gc.collect()"
   ]
  },
  {
   "cell_type": "code",
   "execution_count": 40,
   "id": "c5fcd5dc",
   "metadata": {},
   "outputs": [
    {
     "data": {
      "application/vnd.jupyter.widget-view+json": {
       "model_id": "beb9770b13e94a5393adff2846367f2c",
       "version_major": 2,
       "version_minor": 0
      },
      "text/plain": [
       "  0%|          | 0/147 [00:00<?, ?ba/s]"
      ]
     },
     "metadata": {},
     "output_type": "display_data"
    },
    {
     "data": {
      "application/vnd.jupyter.widget-view+json": {
       "model_id": "60d91bfa7d4145a889c02a52a653df1d",
       "version_major": 2,
       "version_minor": 0
      },
      "text/plain": [
       "  0%|          | 0/50 [00:00<?, ?ba/s]"
      ]
     },
     "metadata": {},
     "output_type": "display_data"
    }
   ],
   "source": [
    "train_tokenized = train.map(transform_without_padding, batched=True)\n",
    "test_tokenized = test.map(transform_without_padding, batched=True)"
   ]
  },
  {
   "cell_type": "markdown",
   "id": "b8e6374d",
   "metadata": {},
   "source": [
    "## 모델 준비 ( Bucketing )\n",
    "- 이전 모델을 그대로 사용하는 경우 학습이 된 상태에 추가로 학습이 진행되므로 모델을 pretrain 상태로 다시 받아옴"
   ]
  },
  {
   "cell_type": "code",
   "execution_count": 42,
   "id": "d2a45459",
   "metadata": {},
   "outputs": [
    {
     "name": "stderr",
     "output_type": "stream",
     "text": [
      "loading configuration file https://huggingface.co/klue/bert-base/resolve/main/config.json from cache at /aiffel/.cache/huggingface/transformers/fbd0b2ef898c4653902683fea8cc0dd99bf43f0e082645b913cda3b92429d1bb.99b3298ed554f2ad731c27cdb11a6215f39b90bc845ff5ce709bb4e74ba45621\n",
      "Model config BertConfig {\n",
      "  \"architectures\": [\n",
      "    \"BertForMaskedLM\"\n",
      "  ],\n",
      "  \"attention_probs_dropout_prob\": 0.1,\n",
      "  \"classifier_dropout\": null,\n",
      "  \"hidden_act\": \"gelu\",\n",
      "  \"hidden_dropout_prob\": 0.1,\n",
      "  \"hidden_size\": 768,\n",
      "  \"initializer_range\": 0.02,\n",
      "  \"intermediate_size\": 3072,\n",
      "  \"layer_norm_eps\": 1e-12,\n",
      "  \"max_position_embeddings\": 512,\n",
      "  \"model_type\": \"bert\",\n",
      "  \"num_attention_heads\": 12,\n",
      "  \"num_hidden_layers\": 12,\n",
      "  \"pad_token_id\": 0,\n",
      "  \"position_embedding_type\": \"absolute\",\n",
      "  \"transformers_version\": \"4.11.3\",\n",
      "  \"type_vocab_size\": 2,\n",
      "  \"use_cache\": true,\n",
      "  \"vocab_size\": 32000\n",
      "}\n",
      "\n",
      "loading weights file https://huggingface.co/klue/bert-base/resolve/main/pytorch_model.bin from cache at /aiffel/.cache/huggingface/transformers/05b36ee62545d769939a7746eca739b844a40a7a7553700f110b58b28ed6a949.7cb231256a5dbe886e12b902d05cb1241f330d8c19428508f91b2b28c1cfe0b6\n",
      "Some weights of the model checkpoint at klue/bert-base were not used when initializing BertForSequenceClassification: ['cls.predictions.decoder.bias', 'cls.predictions.transform.LayerNorm.bias', 'cls.seq_relationship.weight', 'cls.predictions.bias', 'cls.predictions.transform.dense.weight', 'cls.predictions.transform.LayerNorm.weight', 'cls.predictions.decoder.weight', 'cls.predictions.transform.dense.bias', 'cls.seq_relationship.bias']\n",
      "- This IS expected if you are initializing BertForSequenceClassification from the checkpoint of a model trained on another task or with another architecture (e.g. initializing a BertForSequenceClassification model from a BertForPreTraining model).\n",
      "- This IS NOT expected if you are initializing BertForSequenceClassification from the checkpoint of a model that you expect to be exactly identical (initializing a BertForSequenceClassification model from a BertForSequenceClassification model).\n",
      "Some weights of BertForSequenceClassification were not initialized from the model checkpoint at klue/bert-base and are newly initialized: ['classifier.bias', 'classifier.weight']\n",
      "You should probably TRAIN this model on a down-stream task to be able to use it for predictions and inference.\n"
     ]
    }
   ],
   "source": [
    "model_for_bucket_exp = AutoModelForSequenceClassification.from_pretrained('klue/bert-base', num_labels = 2)"
   ]
  },
  {
   "cell_type": "markdown",
   "id": "909cc4fe",
   "metadata": {},
   "source": [
    "## 모델 학습 ( Bucketing )\n",
    "- DataCollatorWithPadding\n",
    "- group_by_length ( 학습시에만 적용됨 )\n",
    "- 메모리 문제로 인해 두가지 옵션 적용 ( 학습에만 적용, 64 size를 2번 묶어 학습 -> 128 batch 사이즈와 동일한 효과 기대 )  \n",
    "    - exp_args.per_device_train_batch_size=64\n",
    "    - exp_args.gradient_accumulation_steps = 2"
   ]
  },
  {
   "cell_type": "code",
   "execution_count": 43,
   "id": "3dade336",
   "metadata": {},
   "outputs": [
    {
     "name": "stderr",
     "output_type": "stream",
     "text": [
      "Using amp fp16 backend\n"
     ]
    }
   ],
   "source": [
    "# 복사\n",
    "exp_args = copy.deepcopy(training_arguments)\n",
    "\n",
    "# 복제본에만 옵션 변경\n",
    "exp_args.group_by_length = True\n",
    "exp_args.output_dir = './transformers_with_bucket'\n",
    "exp_args.per_device_train_batch_size=64\n",
    "exp_args.gradient_accumulation_steps = 2\n",
    "    \n",
    "# 실험용 DataCollatorWithPadding 생성\n",
    "exp_data_collator = DataCollatorWithPadding(tokenizer=tokenizer, padding=\"longest\")\n",
    "\n",
    "train_val_split = train_tokenized.train_test_split(test_size=0.2, seed=42)\n",
    "# Trainer \n",
    "trainer_with_bucket = Trainer(\n",
    "    model=model_for_bucket_exp,\n",
    "    args=exp_args,                              # group_by_length 적용된 args\n",
    "    train_dataset=train_val_split['train'],\n",
    "    eval_dataset=train_val_split['test'],\n",
    "    compute_metrics=compute_metrics,\n",
    "    tokenizer=tokenizer,\n",
    "    data_collator=exp_data_collator,            #  DataCollatorWithPadding\n",
    ")\n"
   ]
  },
  {
   "cell_type": "markdown",
   "id": "015d5ca0",
   "metadata": {},
   "source": [
    "### GPU 메모리 정리 및 메모리 확인\n",
    "- 메모리 문제로  추가 학습 진행 안됨\n",
    "- 메모리 정리 후 학습 진행은 확인 -> 학습 중 메모리 문제 재발생\n",
    "- 기본 모델 및 GPU 메모리에 존재 가능성이 있는 변수들 제거 후 메모리 확보 확인 -> 학습 중 메모리 문제 여전히 발생\n",
    "- 동적 패딩시 메모리를 적게 사용한다고 일반적으로 알려져 있으나 실제로 동적패딩시에 OOM 문제 발생한 원인 파악\n",
    "    - 동적 할당시의 다양한 크기의 텐서 생성으로 인한 파편화 가능성과 그로 인한 allocator 의 reserve 메모리가 늘어나는 문제\n",
    "    - 학습을 위한 연산에 필요한 메모리가 적을 수 있으나 동적 할당을 위한 reserve 메모리로 인해 필요 메모리가 늘어남\n",
    "- gradient_accumulation_steps을 2로 적용하고 batch size를 반으로 줄여 기본 학습과 같은 사이즈 학습을 기대하고 학습 진행\n",
    "    - 실제 동작이 다른 부분이 존재 - 학습 분석 내용 참고"
   ]
  },
  {
   "cell_type": "code",
   "execution_count": 44,
   "id": "d2e3442d",
   "metadata": {},
   "outputs": [
    {
     "name": "stdout",
     "output_type": "stream",
     "text": [
      "|===========================================================================|\n",
      "|                  PyTorch CUDA memory summary, device ID 0                 |\n",
      "|---------------------------------------------------------------------------|\n",
      "|            CUDA OOMs: 2            |        cudaMalloc retries: 17        |\n",
      "|===========================================================================|\n",
      "|        Metric         | Cur Usage  | Peak Usage | Tot Alloc  | Tot Freed  |\n",
      "|---------------------------------------------------------------------------|\n",
      "| Allocated memory      |    2143 MB |   11897 MB |   43273 GB |   43271 GB |\n",
      "|       from large pool |    2141 MB |   11892 MB |   42770 GB |   42768 GB |\n",
      "|       from small pool |       2 MB |     115 MB |     503 GB |     503 GB |\n",
      "|---------------------------------------------------------------------------|\n",
      "| Active memory         |    2143 MB |   11897 MB |   43273 GB |   43271 GB |\n",
      "|       from large pool |    2141 MB |   11892 MB |   42770 GB |   42768 GB |\n",
      "|       from small pool |       2 MB |     115 MB |     503 GB |     503 GB |\n",
      "|---------------------------------------------------------------------------|\n",
      "| GPU reserved memory   |    2242 MB |   12306 MB |   99102 MB |   96860 MB |\n",
      "|       from large pool |    2236 MB |   12282 MB |   98062 MB |   95826 MB |\n",
      "|       from small pool |       6 MB |     122 MB |    1040 MB |    1034 MB |\n",
      "|---------------------------------------------------------------------------|\n",
      "| Non-releasable memory |  100370 KB |    2749 MB |   36000 GB |   35999 GB |\n",
      "|       from large pool |   97104 KB |    2748 MB |   35421 GB |   35421 GB |\n",
      "|       from small pool |    3266 KB |      24 MB |     578 GB |     578 GB |\n",
      "|---------------------------------------------------------------------------|\n",
      "| Allocations           |    1020    |    1239    |   11693 K  |   11692 K  |\n",
      "|       from large pool |     375    |     596    |    5988 K  |    5988 K  |\n",
      "|       from small pool |     645    |     866    |    5704 K  |    5703 K  |\n",
      "|---------------------------------------------------------------------------|\n",
      "| Active allocs         |    1020    |    1239    |   11693 K  |   11692 K  |\n",
      "|       from large pool |     375    |     596    |    5988 K  |    5988 K  |\n",
      "|       from small pool |     645    |     866    |    5704 K  |    5703 K  |\n",
      "|---------------------------------------------------------------------------|\n",
      "| GPU reserved segments |     100    |     277    |    2002    |    1902    |\n",
      "|       from large pool |      97    |     218    |    1482    |    1385    |\n",
      "|       from small pool |       3    |      61    |     520    |     517    |\n",
      "|---------------------------------------------------------------------------|\n",
      "| Non-releasable allocs |      65    |     153    |    6637 K  |    6637 K  |\n",
      "|       from large pool |      47    |     127    |    4278 K  |    4278 K  |\n",
      "|       from small pool |      18    |      97    |    2358 K  |    2358 K  |\n",
      "|===========================================================================|\n",
      "\n"
     ]
    }
   ],
   "source": [
    "# GPU 메모리 정리\n",
    "torch.cuda.empty_cache()\n",
    "gc.collect()\n",
    "\n",
    "print(torch.cuda.memory_summary())"
   ]
  },
  {
   "cell_type": "markdown",
   "id": "6d36731d",
   "metadata": {},
   "source": [
    "## 모델 학습 ( Bucketing )"
   ]
  },
  {
   "cell_type": "code",
   "execution_count": 45,
   "id": "485e82a0",
   "metadata": {
    "scrolled": false
   },
   "outputs": [
    {
     "name": "stderr",
     "output_type": "stream",
     "text": [
      "The following columns in the training set  don't have a corresponding argument in `BertForSequenceClassification.forward` and have been ignored: document, id.\n",
      "***** Running training *****\n",
      "  Num examples = 116940\n",
      "  Num Epochs = 3\n",
      "  Instantaneous batch size per device = 64\n",
      "  Total train batch size (w. parallel, distributed & accumulation) = 128\n",
      "  Gradient Accumulation steps = 2\n",
      "  Total optimization steps = 2742\n"
     ]
    },
    {
     "data": {
      "text/html": [
       "\n",
       "    <div>\n",
       "      \n",
       "      <progress value='2742' max='2742' style='width:300px; height:20px; vertical-align: middle;'></progress>\n",
       "      [2742/2742 24:12, Epoch 3/3]\n",
       "    </div>\n",
       "    <table border=\"1\" class=\"dataframe\">\n",
       "  <thead>\n",
       "    <tr style=\"text-align: left;\">\n",
       "      <th>Epoch</th>\n",
       "      <th>Training Loss</th>\n",
       "      <th>Validation Loss</th>\n",
       "      <th>Accuracy</th>\n",
       "      <th>F1</th>\n",
       "    </tr>\n",
       "  </thead>\n",
       "  <tbody>\n",
       "    <tr>\n",
       "      <td>1</td>\n",
       "      <td>0.382300</td>\n",
       "      <td>0.253201</td>\n",
       "      <td>0.896942</td>\n",
       "      <td>0.896806</td>\n",
       "    </tr>\n",
       "    <tr>\n",
       "      <td>2</td>\n",
       "      <td>0.212800</td>\n",
       "      <td>0.244824</td>\n",
       "      <td>0.900260</td>\n",
       "      <td>0.900208</td>\n",
       "    </tr>\n",
       "    <tr>\n",
       "      <td>3</td>\n",
       "      <td>0.163300</td>\n",
       "      <td>0.250799</td>\n",
       "      <td>0.904228</td>\n",
       "      <td>0.904224</td>\n",
       "    </tr>\n",
       "  </tbody>\n",
       "</table><p>"
      ],
      "text/plain": [
       "<IPython.core.display.HTML object>"
      ]
     },
     "metadata": {},
     "output_type": "display_data"
    },
    {
     "name": "stderr",
     "output_type": "stream",
     "text": [
      "The following columns in the evaluation set  don't have a corresponding argument in `BertForSequenceClassification.forward` and have been ignored: document, id.\n",
      "***** Running Evaluation *****\n",
      "  Num examples = 29236\n",
      "  Batch size = 128\n",
      "Saving model checkpoint to ./transformers_with_bucket/checkpoint-914\n",
      "Configuration saved in ./transformers_with_bucket/checkpoint-914/config.json\n",
      "Model weights saved in ./transformers_with_bucket/checkpoint-914/pytorch_model.bin\n",
      "tokenizer config file saved in ./transformers_with_bucket/checkpoint-914/tokenizer_config.json\n",
      "Special tokens file saved in ./transformers_with_bucket/checkpoint-914/special_tokens_map.json\n",
      "The following columns in the evaluation set  don't have a corresponding argument in `BertForSequenceClassification.forward` and have been ignored: document, id.\n",
      "***** Running Evaluation *****\n",
      "  Num examples = 29236\n",
      "  Batch size = 128\n",
      "Saving model checkpoint to ./transformers_with_bucket/checkpoint-1828\n",
      "Configuration saved in ./transformers_with_bucket/checkpoint-1828/config.json\n",
      "Model weights saved in ./transformers_with_bucket/checkpoint-1828/pytorch_model.bin\n",
      "tokenizer config file saved in ./transformers_with_bucket/checkpoint-1828/tokenizer_config.json\n",
      "Special tokens file saved in ./transformers_with_bucket/checkpoint-1828/special_tokens_map.json\n",
      "/opt/conda/lib/python3.9/site-packages/transformers/trainer.py:1355: FutureWarning: Non-finite norm encountered in torch.nn.utils.clip_grad_norm_; continuing anyway. Note that the default behavior will change in a future release to error out if a non-finite total norm is encountered. At that point, setting error_if_nonfinite=false will be required to retain the old behavior.\n",
      "  nn.utils.clip_grad_norm_(\n",
      "The following columns in the evaluation set  don't have a corresponding argument in `BertForSequenceClassification.forward` and have been ignored: document, id.\n",
      "***** Running Evaluation *****\n",
      "  Num examples = 29236\n",
      "  Batch size = 128\n",
      "Saving model checkpoint to ./transformers_with_bucket/checkpoint-2742\n",
      "Configuration saved in ./transformers_with_bucket/checkpoint-2742/config.json\n",
      "Model weights saved in ./transformers_with_bucket/checkpoint-2742/pytorch_model.bin\n",
      "tokenizer config file saved in ./transformers_with_bucket/checkpoint-2742/tokenizer_config.json\n",
      "Special tokens file saved in ./transformers_with_bucket/checkpoint-2742/special_tokens_map.json\n",
      "Deleting older checkpoint [transformers_with_bucket/checkpoint-914] due to args.save_total_limit\n",
      "\n",
      "\n",
      "Training completed. Do not forget to share your model on huggingface.co/models =)\n",
      "\n",
      "\n",
      "Loading best model from ./transformers_with_bucket/checkpoint-2742 (score: 0.9042241080399175).\n"
     ]
    }
   ],
   "source": [
    "train_output_with_bucket = trainer_with_bucket.train()"
   ]
  },
  {
   "cell_type": "code",
   "execution_count": 46,
   "id": "42f6c1cc",
   "metadata": {},
   "outputs": [
    {
     "data": {
      "text/plain": [
       "TrainOutput(global_step=2742, training_loss=0.23688198231503008, metrics={'train_runtime': 1453.9202, 'train_samples_per_second': 241.292, 'train_steps_per_second': 1.886, 'total_flos': 4324205528180160.0, 'train_loss': 0.23688198231503008, 'epoch': 3.0})"
      ]
     },
     "execution_count": 46,
     "metadata": {},
     "output_type": "execute_result"
    }
   ],
   "source": [
    "train_output_with_bucket"
   ]
  },
  {
   "cell_type": "markdown",
   "id": "39a552f3",
   "metadata": {},
   "source": [
    "## 모델 평가 ( Bucketing )"
   ]
  },
  {
   "cell_type": "code",
   "execution_count": 47,
   "id": "02141abb",
   "metadata": {},
   "outputs": [
    {
     "name": "stderr",
     "output_type": "stream",
     "text": [
      "The following columns in the evaluation set  don't have a corresponding argument in `BertForSequenceClassification.forward` and have been ignored: document, id.\n",
      "***** Running Evaluation *****\n",
      "  Num examples = 50000\n",
      "  Batch size = 128\n"
     ]
    },
    {
     "data": {
      "text/html": [
       "\n",
       "    <div>\n",
       "      \n",
       "      <progress value='782' max='391' style='width:300px; height:20px; vertical-align: middle;'></progress>\n",
       "      [391/391 12:16:58]\n",
       "    </div>\n",
       "    "
      ],
      "text/plain": [
       "<IPython.core.display.HTML object>"
      ]
     },
     "metadata": {},
     "output_type": "display_data"
    }
   ],
   "source": [
    "eval_metrics_with_bucket = trainer_with_bucket.evaluate(test_tokenized)"
   ]
  },
  {
   "cell_type": "code",
   "execution_count": 48,
   "id": "f95f9098",
   "metadata": {},
   "outputs": [
    {
     "data": {
      "text/plain": [
       "{'eval_loss': 0.2560597062110901,\n",
       " 'eval_accuracy': 0.90188,\n",
       " 'eval_f1': 0.9018726138861791,\n",
       " 'eval_runtime': 325.9863,\n",
       " 'eval_samples_per_second': 153.381,\n",
       " 'eval_steps_per_second': 1.199,\n",
       " 'epoch': 3.0}"
      ]
     },
     "execution_count": 48,
     "metadata": {},
     "output_type": "execute_result"
    }
   ],
   "source": [
    "eval_metrics_with_bucket"
   ]
  },
  {
   "cell_type": "markdown",
   "id": "ea187fdb",
   "metadata": {},
   "source": [
    "## 실험 내용 분석"
   ]
  },
  {
   "cell_type": "markdown",
   "id": "058aab3e",
   "metadata": {},
   "source": [
    "### 패딩 시각화 분석\n",
    "- batch 별 토큰 길이 및 패딩 길이 \n",
    "- 해당 batch 에 동적 패딩이 아닌 max padding 적용시 패딩 길이"
   ]
  },
  {
   "cell_type": "markdown",
   "id": "a687aa25",
   "metadata": {},
   "source": [
    "#### 학습 데이터 패딩 시각화\n",
    "- 학습시에는 group by padding과 batch 별 동적 패딩이 모두 적용됨\n",
    "- 동적 패딩의 특징 padding 최소값이 모두 0, 패딩그룹화시에는 MAX 및 평균도 대체로 작음\n",
    "- batch수가 많아 확인 결과 동적 패딩 적용 기준이 accumulation_steps 과 상관없이 device batch 기준으로 적용됨\n",
    "    - 패딩 길이 등은 64 batch size를 했을때와 같게됨\n",
    "    - 학습은 2개 batch를 묶어서 진행되므로 128 size를 적용했을때와 유사하지만 batch 별 max length 가 다를 수 있으므로 미세 차이가 있을 수 있음\n",
    "- max length 와 전체 데이터를 처리하면서 처리되는 패딩수 차이가 데이터 당 평균 100개에 가까워 보임\n",
    "    - max 적용시와 동적 패딩을 적용 안했을때와 batch별 분포가 다르므로 최소값 최대값은 의미가 없을 수 있으나 전체 적용 패딩수는 같음"
   ]
  },
  {
   "cell_type": "code",
   "execution_count": 49,
   "id": "6cd28d55",
   "metadata": {},
   "outputs": [
    {
     "name": "stderr",
     "output_type": "stream",
     "text": [
      "The following columns in the training set  don't have a corresponding argument in `BertForSequenceClassification.forward` and have been ignored: document, id.\n"
     ]
    },
    {
     "data": {
      "text/html": [
       "<div>\n",
       "<style scoped>\n",
       "    .dataframe tbody tr th:only-of-type {\n",
       "        vertical-align: middle;\n",
       "    }\n",
       "\n",
       "    .dataframe tbody tr th {\n",
       "        vertical-align: top;\n",
       "    }\n",
       "\n",
       "    .dataframe thead th {\n",
       "        text-align: right;\n",
       "    }\n",
       "</style>\n",
       "<table border=\"1\" class=\"dataframe\">\n",
       "  <thead>\n",
       "    <tr style=\"text-align: right;\">\n",
       "      <th></th>\n",
       "      <th>min_len</th>\n",
       "      <th>max_len</th>\n",
       "      <th>avg_len</th>\n",
       "      <th>pad_min</th>\n",
       "      <th>pad_max</th>\n",
       "      <th>pad_avg</th>\n",
       "      <th>fixed_pad_min</th>\n",
       "      <th>fixed_pad_max</th>\n",
       "      <th>fixed_pad_avg</th>\n",
       "    </tr>\n",
       "  </thead>\n",
       "  <tbody>\n",
       "    <tr>\n",
       "      <th>0</th>\n",
       "      <td>75</td>\n",
       "      <td>120</td>\n",
       "      <td>83.484375</td>\n",
       "      <td>0</td>\n",
       "      <td>45</td>\n",
       "      <td>36.515625</td>\n",
       "      <td>0</td>\n",
       "      <td>45</td>\n",
       "      <td>36.515625</td>\n",
       "    </tr>\n",
       "    <tr>\n",
       "      <th>1</th>\n",
       "      <td>66</td>\n",
       "      <td>75</td>\n",
       "      <td>71.109375</td>\n",
       "      <td>0</td>\n",
       "      <td>9</td>\n",
       "      <td>3.890625</td>\n",
       "      <td>45</td>\n",
       "      <td>54</td>\n",
       "      <td>48.890625</td>\n",
       "    </tr>\n",
       "    <tr>\n",
       "      <th>2</th>\n",
       "      <td>58</td>\n",
       "      <td>66</td>\n",
       "      <td>61.578125</td>\n",
       "      <td>0</td>\n",
       "      <td>8</td>\n",
       "      <td>4.421875</td>\n",
       "      <td>54</td>\n",
       "      <td>62</td>\n",
       "      <td>58.421875</td>\n",
       "    </tr>\n",
       "    <tr>\n",
       "      <th>3</th>\n",
       "      <td>50</td>\n",
       "      <td>58</td>\n",
       "      <td>53.906250</td>\n",
       "      <td>0</td>\n",
       "      <td>8</td>\n",
       "      <td>4.093750</td>\n",
       "      <td>62</td>\n",
       "      <td>70</td>\n",
       "      <td>66.093750</td>\n",
       "    </tr>\n",
       "    <tr>\n",
       "      <th>4</th>\n",
       "      <td>46</td>\n",
       "      <td>50</td>\n",
       "      <td>47.750000</td>\n",
       "      <td>0</td>\n",
       "      <td>4</td>\n",
       "      <td>2.250000</td>\n",
       "      <td>70</td>\n",
       "      <td>74</td>\n",
       "      <td>72.250000</td>\n",
       "    </tr>\n",
       "    <tr>\n",
       "      <th>...</th>\n",
       "      <td>...</td>\n",
       "      <td>...</td>\n",
       "      <td>...</td>\n",
       "      <td>...</td>\n",
       "      <td>...</td>\n",
       "      <td>...</td>\n",
       "      <td>...</td>\n",
       "      <td>...</td>\n",
       "      <td>...</td>\n",
       "    </tr>\n",
       "    <tr>\n",
       "      <th>1823</th>\n",
       "      <td>9</td>\n",
       "      <td>10</td>\n",
       "      <td>9.406250</td>\n",
       "      <td>0</td>\n",
       "      <td>1</td>\n",
       "      <td>0.593750</td>\n",
       "      <td>110</td>\n",
       "      <td>111</td>\n",
       "      <td>110.593750</td>\n",
       "    </tr>\n",
       "    <tr>\n",
       "      <th>1824</th>\n",
       "      <td>8</td>\n",
       "      <td>9</td>\n",
       "      <td>8.484375</td>\n",
       "      <td>0</td>\n",
       "      <td>1</td>\n",
       "      <td>0.515625</td>\n",
       "      <td>111</td>\n",
       "      <td>112</td>\n",
       "      <td>111.515625</td>\n",
       "    </tr>\n",
       "    <tr>\n",
       "      <th>1825</th>\n",
       "      <td>7</td>\n",
       "      <td>8</td>\n",
       "      <td>7.281250</td>\n",
       "      <td>0</td>\n",
       "      <td>1</td>\n",
       "      <td>0.718750</td>\n",
       "      <td>112</td>\n",
       "      <td>113</td>\n",
       "      <td>112.718750</td>\n",
       "    </tr>\n",
       "    <tr>\n",
       "      <th>1826</th>\n",
       "      <td>4</td>\n",
       "      <td>6</td>\n",
       "      <td>5.421875</td>\n",
       "      <td>0</td>\n",
       "      <td>2</td>\n",
       "      <td>0.578125</td>\n",
       "      <td>114</td>\n",
       "      <td>116</td>\n",
       "      <td>114.578125</td>\n",
       "    </tr>\n",
       "    <tr>\n",
       "      <th>1827</th>\n",
       "      <td>3</td>\n",
       "      <td>4</td>\n",
       "      <td>3.500000</td>\n",
       "      <td>0</td>\n",
       "      <td>1</td>\n",
       "      <td>0.500000</td>\n",
       "      <td>116</td>\n",
       "      <td>117</td>\n",
       "      <td>116.500000</td>\n",
       "    </tr>\n",
       "  </tbody>\n",
       "</table>\n",
       "<p>1828 rows × 9 columns</p>\n",
       "</div>"
      ],
      "text/plain": [
       "      min_len  max_len    avg_len  pad_min  pad_max    pad_avg  fixed_pad_min  \\\n",
       "0          75      120  83.484375        0       45  36.515625              0   \n",
       "1          66       75  71.109375        0        9   3.890625             45   \n",
       "2          58       66  61.578125        0        8   4.421875             54   \n",
       "3          50       58  53.906250        0        8   4.093750             62   \n",
       "4          46       50  47.750000        0        4   2.250000             70   \n",
       "...       ...      ...        ...      ...      ...        ...            ...   \n",
       "1823        9       10   9.406250        0        1   0.593750            110   \n",
       "1824        8        9   8.484375        0        1   0.515625            111   \n",
       "1825        7        8   7.281250        0        1   0.718750            112   \n",
       "1826        4        6   5.421875        0        2   0.578125            114   \n",
       "1827        3        4   3.500000        0        1   0.500000            116   \n",
       "\n",
       "      fixed_pad_max  fixed_pad_avg  \n",
       "0                45      36.515625  \n",
       "1                54      48.890625  \n",
       "2                62      58.421875  \n",
       "3                70      66.093750  \n",
       "4                74      72.250000  \n",
       "...             ...            ...  \n",
       "1823            111     110.593750  \n",
       "1824            112     111.515625  \n",
       "1825            113     112.718750  \n",
       "1826            116     114.578125  \n",
       "1827            117     116.500000  \n",
       "\n",
       "[1828 rows x 9 columns]"
      ]
     },
     "execution_count": 49,
     "metadata": {},
     "output_type": "execute_result"
    }
   ],
   "source": [
    "# train DataLoader 가져오기\n",
    "train_dataloader = trainer_with_bucket.get_train_dataloader()\n",
    "\n",
    "df_stats = pdding_stat_batch(train_dataloader)\n",
    "df_stats\n"
   ]
  },
  {
   "cell_type": "code",
   "execution_count": 50,
   "id": "e5129ca4",
   "metadata": {
    "scrolled": false
   },
   "outputs": [
    {
     "data": {
      "image/png": "[encoded data removed]",
      "text/plain": [
       "<Figure size 1080x864 with 9 Axes>"
      ]
     },
     "metadata": {
      "needs_background": "light"
     },
     "output_type": "display_data"
    }
   ],
   "source": [
    "plot_padding_stat_batch(df_stats)"
   ]
  },
  {
   "cell_type": "markdown",
   "id": "697cb6c7",
   "metadata": {},
   "source": [
    "#### 검증 데이터 패딩 시각화\n",
    "- 토큰수를 봤을때 길이 분포가 어느정도 분산되어 적용되었음을 확인\n",
    "- 검증 데이터는 group by padding 적용 안됨, batch별 동적 패딩만 적용됨\n",
    "- 패딩별 그룹화 없이 배치 동적 패딩만 적용되었어도 평균적으로 20~30개 정도의 차이를 보이는 것으로 보임"
   ]
  },
  {
   "cell_type": "code",
   "execution_count": 51,
   "id": "e032058b",
   "metadata": {},
   "outputs": [
    {
     "name": "stderr",
     "output_type": "stream",
     "text": [
      "The following columns in the evaluation set  don't have a corresponding argument in `BertForSequenceClassification.forward` and have been ignored: document, id.\n"
     ]
    },
    {
     "data": {
      "text/html": [
       "<div>\n",
       "<style scoped>\n",
       "    .dataframe tbody tr th:only-of-type {\n",
       "        vertical-align: middle;\n",
       "    }\n",
       "\n",
       "    .dataframe tbody tr th {\n",
       "        vertical-align: top;\n",
       "    }\n",
       "\n",
       "    .dataframe thead th {\n",
       "        text-align: right;\n",
       "    }\n",
       "</style>\n",
       "<table border=\"1\" class=\"dataframe\">\n",
       "  <thead>\n",
       "    <tr style=\"text-align: right;\">\n",
       "      <th></th>\n",
       "      <th>min_len</th>\n",
       "      <th>max_len</th>\n",
       "      <th>avg_len</th>\n",
       "      <th>pad_min</th>\n",
       "      <th>pad_max</th>\n",
       "      <th>pad_avg</th>\n",
       "      <th>fixed_pad_min</th>\n",
       "      <th>fixed_pad_max</th>\n",
       "      <th>fixed_pad_avg</th>\n",
       "    </tr>\n",
       "  </thead>\n",
       "  <tbody>\n",
       "    <tr>\n",
       "      <th>0</th>\n",
       "      <td>4</td>\n",
       "      <td>95</td>\n",
       "      <td>21.937500</td>\n",
       "      <td>0</td>\n",
       "      <td>91</td>\n",
       "      <td>73.062500</td>\n",
       "      <td>25</td>\n",
       "      <td>116</td>\n",
       "      <td>98.062500</td>\n",
       "    </tr>\n",
       "    <tr>\n",
       "      <th>1</th>\n",
       "      <td>3</td>\n",
       "      <td>93</td>\n",
       "      <td>21.937500</td>\n",
       "      <td>0</td>\n",
       "      <td>90</td>\n",
       "      <td>71.062500</td>\n",
       "      <td>27</td>\n",
       "      <td>117</td>\n",
       "      <td>98.062500</td>\n",
       "    </tr>\n",
       "    <tr>\n",
       "      <th>2</th>\n",
       "      <td>4</td>\n",
       "      <td>89</td>\n",
       "      <td>21.320312</td>\n",
       "      <td>0</td>\n",
       "      <td>85</td>\n",
       "      <td>67.679688</td>\n",
       "      <td>31</td>\n",
       "      <td>116</td>\n",
       "      <td>98.679688</td>\n",
       "    </tr>\n",
       "    <tr>\n",
       "      <th>3</th>\n",
       "      <td>3</td>\n",
       "      <td>70</td>\n",
       "      <td>21.867188</td>\n",
       "      <td>0</td>\n",
       "      <td>67</td>\n",
       "      <td>48.132812</td>\n",
       "      <td>50</td>\n",
       "      <td>117</td>\n",
       "      <td>98.132812</td>\n",
       "    </tr>\n",
       "    <tr>\n",
       "      <th>4</th>\n",
       "      <td>3</td>\n",
       "      <td>77</td>\n",
       "      <td>21.851562</td>\n",
       "      <td>0</td>\n",
       "      <td>74</td>\n",
       "      <td>55.148438</td>\n",
       "      <td>43</td>\n",
       "      <td>117</td>\n",
       "      <td>98.148438</td>\n",
       "    </tr>\n",
       "    <tr>\n",
       "      <th>...</th>\n",
       "      <td>...</td>\n",
       "      <td>...</td>\n",
       "      <td>...</td>\n",
       "      <td>...</td>\n",
       "      <td>...</td>\n",
       "      <td>...</td>\n",
       "      <td>...</td>\n",
       "      <td>...</td>\n",
       "      <td>...</td>\n",
       "    </tr>\n",
       "    <tr>\n",
       "      <th>224</th>\n",
       "      <td>5</td>\n",
       "      <td>81</td>\n",
       "      <td>21.867188</td>\n",
       "      <td>0</td>\n",
       "      <td>76</td>\n",
       "      <td>59.132812</td>\n",
       "      <td>39</td>\n",
       "      <td>115</td>\n",
       "      <td>98.132812</td>\n",
       "    </tr>\n",
       "    <tr>\n",
       "      <th>225</th>\n",
       "      <td>3</td>\n",
       "      <td>88</td>\n",
       "      <td>22.562500</td>\n",
       "      <td>0</td>\n",
       "      <td>85</td>\n",
       "      <td>65.437500</td>\n",
       "      <td>32</td>\n",
       "      <td>117</td>\n",
       "      <td>97.437500</td>\n",
       "    </tr>\n",
       "    <tr>\n",
       "      <th>226</th>\n",
       "      <td>5</td>\n",
       "      <td>95</td>\n",
       "      <td>22.140625</td>\n",
       "      <td>0</td>\n",
       "      <td>90</td>\n",
       "      <td>72.859375</td>\n",
       "      <td>25</td>\n",
       "      <td>115</td>\n",
       "      <td>97.859375</td>\n",
       "    </tr>\n",
       "    <tr>\n",
       "      <th>227</th>\n",
       "      <td>4</td>\n",
       "      <td>75</td>\n",
       "      <td>23.156250</td>\n",
       "      <td>0</td>\n",
       "      <td>71</td>\n",
       "      <td>51.843750</td>\n",
       "      <td>45</td>\n",
       "      <td>116</td>\n",
       "      <td>96.843750</td>\n",
       "    </tr>\n",
       "    <tr>\n",
       "      <th>228</th>\n",
       "      <td>5</td>\n",
       "      <td>73</td>\n",
       "      <td>21.692308</td>\n",
       "      <td>0</td>\n",
       "      <td>68</td>\n",
       "      <td>51.307692</td>\n",
       "      <td>47</td>\n",
       "      <td>115</td>\n",
       "      <td>98.307692</td>\n",
       "    </tr>\n",
       "  </tbody>\n",
       "</table>\n",
       "<p>229 rows × 9 columns</p>\n",
       "</div>"
      ],
      "text/plain": [
       "     min_len  max_len    avg_len  pad_min  pad_max    pad_avg  fixed_pad_min  \\\n",
       "0          4       95  21.937500        0       91  73.062500             25   \n",
       "1          3       93  21.937500        0       90  71.062500             27   \n",
       "2          4       89  21.320312        0       85  67.679688             31   \n",
       "3          3       70  21.867188        0       67  48.132812             50   \n",
       "4          3       77  21.851562        0       74  55.148438             43   \n",
       "..       ...      ...        ...      ...      ...        ...            ...   \n",
       "224        5       81  21.867188        0       76  59.132812             39   \n",
       "225        3       88  22.562500        0       85  65.437500             32   \n",
       "226        5       95  22.140625        0       90  72.859375             25   \n",
       "227        4       75  23.156250        0       71  51.843750             45   \n",
       "228        5       73  21.692308        0       68  51.307692             47   \n",
       "\n",
       "     fixed_pad_max  fixed_pad_avg  \n",
       "0              116      98.062500  \n",
       "1              117      98.062500  \n",
       "2              116      98.679688  \n",
       "3              117      98.132812  \n",
       "4              117      98.148438  \n",
       "..             ...            ...  \n",
       "224            115      98.132812  \n",
       "225            117      97.437500  \n",
       "226            115      97.859375  \n",
       "227            116      96.843750  \n",
       "228            115      98.307692  \n",
       "\n",
       "[229 rows x 9 columns]"
      ]
     },
     "execution_count": 51,
     "metadata": {},
     "output_type": "execute_result"
    }
   ],
   "source": [
    "# eval DataLoader 가져오기\n",
    "eval_dataloader = trainer_with_bucket.get_eval_dataloader()\n",
    "\n",
    "df_stats = pdding_stat_batch(eval_dataloader)\n",
    "df_stats"
   ]
  },
  {
   "cell_type": "code",
   "execution_count": 52,
   "id": "33835b4b",
   "metadata": {},
   "outputs": [
    {
     "data": {
      "image/png": "[encoded data removed]",
      "text/plain": [
       "<Figure size 1080x864 with 9 Axes>"
      ]
     },
     "metadata": {
      "needs_background": "light"
     },
     "output_type": "display_data"
    }
   ],
   "source": [
    "plot_padding_stat_batch(df_stats)"
   ]
  },
  {
   "cell_type": "markdown",
   "id": "27ee4516",
   "metadata": {},
   "source": [
    "#### 테스트 데이터 패딩 시각화\n",
    "- 검증 데이터와 유사한 분포를 보임 \n",
    "- group by length 적용 안됨, batch별 동적 패딩만 적용됨"
   ]
  },
  {
   "cell_type": "code",
   "execution_count": 56,
   "id": "af047b1e",
   "metadata": {},
   "outputs": [
    {
     "data": {
      "text/plain": [
       "Dataset({\n",
       "    features: ['attention_mask', 'document', 'id', 'input_ids', 'label'],\n",
       "    num_rows: 50000\n",
       "})"
      ]
     },
     "execution_count": 56,
     "metadata": {},
     "output_type": "execute_result"
    }
   ],
   "source": [
    "test_tokenized"
   ]
  },
  {
   "cell_type": "code",
   "execution_count": 57,
   "id": "4e0f946a",
   "metadata": {},
   "outputs": [
    {
     "data": {
      "text/html": [
       "<div>\n",
       "<style scoped>\n",
       "    .dataframe tbody tr th:only-of-type {\n",
       "        vertical-align: middle;\n",
       "    }\n",
       "\n",
       "    .dataframe tbody tr th {\n",
       "        vertical-align: top;\n",
       "    }\n",
       "\n",
       "    .dataframe thead th {\n",
       "        text-align: right;\n",
       "    }\n",
       "</style>\n",
       "<table border=\"1\" class=\"dataframe\">\n",
       "  <thead>\n",
       "    <tr style=\"text-align: right;\">\n",
       "      <th></th>\n",
       "      <th>min_len</th>\n",
       "      <th>max_len</th>\n",
       "      <th>avg_len</th>\n",
       "      <th>pad_min</th>\n",
       "      <th>pad_max</th>\n",
       "      <th>pad_avg</th>\n",
       "      <th>fixed_pad_min</th>\n",
       "      <th>fixed_pad_max</th>\n",
       "      <th>fixed_pad_avg</th>\n",
       "    </tr>\n",
       "  </thead>\n",
       "  <tbody>\n",
       "    <tr>\n",
       "      <th>0</th>\n",
       "      <td>3</td>\n",
       "      <td>94</td>\n",
       "      <td>22.070312</td>\n",
       "      <td>0</td>\n",
       "      <td>91</td>\n",
       "      <td>71.929688</td>\n",
       "      <td>26</td>\n",
       "      <td>117</td>\n",
       "      <td>97.929688</td>\n",
       "    </tr>\n",
       "    <tr>\n",
       "      <th>1</th>\n",
       "      <td>3</td>\n",
       "      <td>81</td>\n",
       "      <td>22.187500</td>\n",
       "      <td>0</td>\n",
       "      <td>78</td>\n",
       "      <td>58.812500</td>\n",
       "      <td>39</td>\n",
       "      <td>117</td>\n",
       "      <td>97.812500</td>\n",
       "    </tr>\n",
       "    <tr>\n",
       "      <th>2</th>\n",
       "      <td>4</td>\n",
       "      <td>76</td>\n",
       "      <td>22.453125</td>\n",
       "      <td>0</td>\n",
       "      <td>72</td>\n",
       "      <td>53.546875</td>\n",
       "      <td>44</td>\n",
       "      <td>116</td>\n",
       "      <td>97.546875</td>\n",
       "    </tr>\n",
       "    <tr>\n",
       "      <th>3</th>\n",
       "      <td>3</td>\n",
       "      <td>96</td>\n",
       "      <td>21.390625</td>\n",
       "      <td>0</td>\n",
       "      <td>93</td>\n",
       "      <td>74.609375</td>\n",
       "      <td>24</td>\n",
       "      <td>117</td>\n",
       "      <td>98.609375</td>\n",
       "    </tr>\n",
       "    <tr>\n",
       "      <th>4</th>\n",
       "      <td>3</td>\n",
       "      <td>80</td>\n",
       "      <td>22.382812</td>\n",
       "      <td>0</td>\n",
       "      <td>77</td>\n",
       "      <td>57.617188</td>\n",
       "      <td>40</td>\n",
       "      <td>117</td>\n",
       "      <td>97.617188</td>\n",
       "    </tr>\n",
       "    <tr>\n",
       "      <th>...</th>\n",
       "      <td>...</td>\n",
       "      <td>...</td>\n",
       "      <td>...</td>\n",
       "      <td>...</td>\n",
       "      <td>...</td>\n",
       "      <td>...</td>\n",
       "      <td>...</td>\n",
       "      <td>...</td>\n",
       "      <td>...</td>\n",
       "    </tr>\n",
       "    <tr>\n",
       "      <th>386</th>\n",
       "      <td>3</td>\n",
       "      <td>92</td>\n",
       "      <td>24.500000</td>\n",
       "      <td>0</td>\n",
       "      <td>89</td>\n",
       "      <td>67.500000</td>\n",
       "      <td>28</td>\n",
       "      <td>117</td>\n",
       "      <td>95.500000</td>\n",
       "    </tr>\n",
       "    <tr>\n",
       "      <th>387</th>\n",
       "      <td>3</td>\n",
       "      <td>106</td>\n",
       "      <td>20.843750</td>\n",
       "      <td>0</td>\n",
       "      <td>103</td>\n",
       "      <td>85.156250</td>\n",
       "      <td>14</td>\n",
       "      <td>117</td>\n",
       "      <td>99.156250</td>\n",
       "    </tr>\n",
       "    <tr>\n",
       "      <th>388</th>\n",
       "      <td>3</td>\n",
       "      <td>81</td>\n",
       "      <td>24.070312</td>\n",
       "      <td>0</td>\n",
       "      <td>78</td>\n",
       "      <td>56.929688</td>\n",
       "      <td>39</td>\n",
       "      <td>117</td>\n",
       "      <td>95.929688</td>\n",
       "    </tr>\n",
       "    <tr>\n",
       "      <th>389</th>\n",
       "      <td>4</td>\n",
       "      <td>91</td>\n",
       "      <td>24.523438</td>\n",
       "      <td>0</td>\n",
       "      <td>87</td>\n",
       "      <td>66.476562</td>\n",
       "      <td>29</td>\n",
       "      <td>116</td>\n",
       "      <td>95.476562</td>\n",
       "    </tr>\n",
       "    <tr>\n",
       "      <th>390</th>\n",
       "      <td>3</td>\n",
       "      <td>82</td>\n",
       "      <td>21.625000</td>\n",
       "      <td>0</td>\n",
       "      <td>79</td>\n",
       "      <td>60.375000</td>\n",
       "      <td>38</td>\n",
       "      <td>117</td>\n",
       "      <td>98.375000</td>\n",
       "    </tr>\n",
       "  </tbody>\n",
       "</table>\n",
       "<p>391 rows × 9 columns</p>\n",
       "</div>"
      ],
      "text/plain": [
       "     min_len  max_len    avg_len  pad_min  pad_max    pad_avg  fixed_pad_min  \\\n",
       "0          3       94  22.070312        0       91  71.929688             26   \n",
       "1          3       81  22.187500        0       78  58.812500             39   \n",
       "2          4       76  22.453125        0       72  53.546875             44   \n",
       "3          3       96  21.390625        0       93  74.609375             24   \n",
       "4          3       80  22.382812        0       77  57.617188             40   \n",
       "..       ...      ...        ...      ...      ...        ...            ...   \n",
       "386        3       92  24.500000        0       89  67.500000             28   \n",
       "387        3      106  20.843750        0      103  85.156250             14   \n",
       "388        3       81  24.070312        0       78  56.929688             39   \n",
       "389        4       91  24.523438        0       87  66.476562             29   \n",
       "390        3       82  21.625000        0       79  60.375000             38   \n",
       "\n",
       "     fixed_pad_max  fixed_pad_avg  \n",
       "0              117      97.929688  \n",
       "1              117      97.812500  \n",
       "2              116      97.546875  \n",
       "3              117      98.609375  \n",
       "4              117      97.617188  \n",
       "..             ...            ...  \n",
       "386            117      95.500000  \n",
       "387            117      99.156250  \n",
       "388            117      95.929688  \n",
       "389            116      95.476562  \n",
       "390            117      98.375000  \n",
       "\n",
       "[391 rows x 9 columns]"
      ]
     },
     "execution_count": 57,
     "metadata": {},
     "output_type": "execute_result"
    }
   ],
   "source": [
    "from torch.utils.data import DataLoader, SequentialSampler\n",
    "\n",
    "test_tokenized.set_format(\n",
    "    type=\"torch\",\n",
    "    columns=[\"input_ids\", \"attention_mask\", \"label\"]  # 필요에 따라 컬럼 추가\n",
    ")\n",
    "\n",
    "\n",
    "test_dataloader = DataLoader(\n",
    "    test_tokenized,\n",
    "    sampler=SequentialSampler(test_tokenized),               # Trainer 내부와 동일\n",
    "    batch_size=training_arguments.per_device_eval_batch_size,\n",
    "    collate_fn=exp_data_collator,\n",
    "    drop_last=False,                                         # Trainer 기본값\n",
    ")\n",
    "\n",
    "df_stats = pdding_stat_batch(test_dataloader)\n",
    "df_stats"
   ]
  },
  {
   "cell_type": "code",
   "execution_count": 58,
   "id": "de82d39b",
   "metadata": {},
   "outputs": [
    {
     "data": {
      "image/png": "[encoded data removed]",
      "text/plain": [
       "<Figure size 1080x864 with 9 Axes>"
      ]
     },
     "metadata": {
      "needs_background": "light"
     },
     "output_type": "display_data"
    }
   ],
   "source": [
    "plot_padding_stat_batch(df_stats)"
   ]
  },
  {
   "cell_type": "markdown",
   "id": "689489ab",
   "metadata": {},
   "source": [
    "#### 추가 테스트 시각화 ( 테스트 데이터 토큰 길이로 정렬 )\n",
    "- group by length 적용 효과와 같은 효과 기대\n",
    "- 실제로 train data 와 유사한 분포를 보임\n",
    "- 패딩의 Max 및 평균이 group by length 대비 더 짧은 경향\n",
    "    - group by length가 가장 짧은 패딩을 생성하기 위해 최적화된 그룹을 생성하는 것이 아닌 길이 구간별 버켓을 만들고 같은 버켓 안에서 그룹 데이터를 선택하는 방식으로 동작함으로 인한 차이"
   ]
  },
  {
   "cell_type": "code",
   "execution_count": 66,
   "id": "91211e64",
   "metadata": {
    "scrolled": false
   },
   "outputs": [
    {
     "name": "stderr",
     "output_type": "stream",
     "text": [
      "Loading cached processed dataset at /aiffel/.cache/huggingface/datasets/nsmc/default/1.1.0/bfd4729bf1a67114e5267e6916b9e4807010aeb238e4a3c2b95fbfa3a014b5f3/cache-c29323ed9fbe3849.arrow\n",
      "Loading cached sorted indices for dataset at /aiffel/.cache/huggingface/datasets/nsmc/default/1.1.0/bfd4729bf1a67114e5267e6916b9e4807010aeb238e4a3c2b95fbfa3a014b5f3/cache-d83c09595c8a760b.arrow\n"
     ]
    },
    {
     "name": "stdout",
     "output_type": "stream",
     "text": [
      "Elapsed: 0.01 seconds\n"
     ]
    }
   ],
   "source": [
    "import time\n",
    "\n",
    "start = time.time()\n",
    "# length 컬럼 추가\n",
    "test_with_len = test_tokenized.map(\n",
    "    lambda x: {\"length\": len(x[\"input_ids\"])},\n",
    "    batched=False\n",
    ")\n",
    "\n",
    "# length 기준으로 정렬\n",
    "test_sorted = test_with_len.sort(\"length\")\n",
    "\n",
    "# 불필요해진 length 컬럼 제거\n",
    "test_tokenized_sorted = test_sorted.remove_columns(\"length\")\n",
    "end = time.time()\n",
    "print(f\"Elapsed: {end - start:.2f} seconds\")"
   ]
  },
  {
   "cell_type": "code",
   "execution_count": 59,
   "id": "a9abd803",
   "metadata": {},
   "outputs": [
    {
     "data": {
      "application/vnd.jupyter.widget-view+json": {
       "model_id": "60f45b5e8eff4b3e9c6980854efad45e",
       "version_major": 2,
       "version_minor": 0
      },
      "text/plain": [
       "  0%|          | 0/50000 [00:00<?, ?ex/s]"
      ]
     },
     "metadata": {},
     "output_type": "display_data"
    },
    {
     "name": "stderr",
     "output_type": "stream",
     "text": [
      "The following columns in the evaluation set  don't have a corresponding argument in `BertForSequenceClassification.forward` and have been ignored: document, id.\n",
      "***** Running Evaluation *****\n",
      "  Num examples = 50000\n",
      "  Batch size = 128\n"
     ]
    }
   ],
   "source": [
    "eval_metrics_with_bucket = trainer_with_bucket.evaluate(test_tokenized_sorted)"
   ]
  },
  {
   "cell_type": "code",
   "execution_count": 60,
   "id": "4ca7b82d",
   "metadata": {},
   "outputs": [
    {
     "data": {
      "text/plain": [
       "{'eval_loss': 0.2560596764087677,\n",
       " 'eval_accuracy': 0.90188,\n",
       " 'eval_f1': 0.9018726138861791,\n",
       " 'eval_runtime': 101.0823,\n",
       " 'eval_samples_per_second': 494.647,\n",
       " 'eval_steps_per_second': 3.868,\n",
       " 'epoch': 3.0}"
      ]
     },
     "execution_count": 60,
     "metadata": {},
     "output_type": "execute_result"
    }
   ],
   "source": [
    "eval_metrics_with_bucket"
   ]
  },
  {
   "cell_type": "code",
   "execution_count": 64,
   "id": "6352bde3",
   "metadata": {},
   "outputs": [
    {
     "data": {
      "text/html": [
       "<div>\n",
       "<style scoped>\n",
       "    .dataframe tbody tr th:only-of-type {\n",
       "        vertical-align: middle;\n",
       "    }\n",
       "\n",
       "    .dataframe tbody tr th {\n",
       "        vertical-align: top;\n",
       "    }\n",
       "\n",
       "    .dataframe thead th {\n",
       "        text-align: right;\n",
       "    }\n",
       "</style>\n",
       "<table border=\"1\" class=\"dataframe\">\n",
       "  <thead>\n",
       "    <tr style=\"text-align: right;\">\n",
       "      <th></th>\n",
       "      <th>min_len</th>\n",
       "      <th>max_len</th>\n",
       "      <th>avg_len</th>\n",
       "      <th>pad_min</th>\n",
       "      <th>pad_max</th>\n",
       "      <th>pad_avg</th>\n",
       "      <th>fixed_pad_min</th>\n",
       "      <th>fixed_pad_max</th>\n",
       "      <th>fixed_pad_avg</th>\n",
       "    </tr>\n",
       "  </thead>\n",
       "  <tbody>\n",
       "    <tr>\n",
       "      <th>0</th>\n",
       "      <td>2</td>\n",
       "      <td>3</td>\n",
       "      <td>2.976562</td>\n",
       "      <td>0</td>\n",
       "      <td>1</td>\n",
       "      <td>0.023438</td>\n",
       "      <td>117</td>\n",
       "      <td>118</td>\n",
       "      <td>117.023438</td>\n",
       "    </tr>\n",
       "    <tr>\n",
       "      <th>1</th>\n",
       "      <td>3</td>\n",
       "      <td>3</td>\n",
       "      <td>3.000000</td>\n",
       "      <td>0</td>\n",
       "      <td>0</td>\n",
       "      <td>0.000000</td>\n",
       "      <td>117</td>\n",
       "      <td>117</td>\n",
       "      <td>117.000000</td>\n",
       "    </tr>\n",
       "    <tr>\n",
       "      <th>2</th>\n",
       "      <td>3</td>\n",
       "      <td>3</td>\n",
       "      <td>3.000000</td>\n",
       "      <td>0</td>\n",
       "      <td>0</td>\n",
       "      <td>0.000000</td>\n",
       "      <td>117</td>\n",
       "      <td>117</td>\n",
       "      <td>117.000000</td>\n",
       "    </tr>\n",
       "    <tr>\n",
       "      <th>3</th>\n",
       "      <td>3</td>\n",
       "      <td>3</td>\n",
       "      <td>3.000000</td>\n",
       "      <td>0</td>\n",
       "      <td>0</td>\n",
       "      <td>0.000000</td>\n",
       "      <td>117</td>\n",
       "      <td>117</td>\n",
       "      <td>117.000000</td>\n",
       "    </tr>\n",
       "    <tr>\n",
       "      <th>4</th>\n",
       "      <td>3</td>\n",
       "      <td>4</td>\n",
       "      <td>3.203125</td>\n",
       "      <td>0</td>\n",
       "      <td>1</td>\n",
       "      <td>0.796875</td>\n",
       "      <td>116</td>\n",
       "      <td>117</td>\n",
       "      <td>116.796875</td>\n",
       "    </tr>\n",
       "    <tr>\n",
       "      <th>...</th>\n",
       "      <td>...</td>\n",
       "      <td>...</td>\n",
       "      <td>...</td>\n",
       "      <td>...</td>\n",
       "      <td>...</td>\n",
       "      <td>...</td>\n",
       "      <td>...</td>\n",
       "      <td>...</td>\n",
       "      <td>...</td>\n",
       "    </tr>\n",
       "    <tr>\n",
       "      <th>386</th>\n",
       "      <td>80</td>\n",
       "      <td>82</td>\n",
       "      <td>80.953125</td>\n",
       "      <td>0</td>\n",
       "      <td>2</td>\n",
       "      <td>1.046875</td>\n",
       "      <td>38</td>\n",
       "      <td>40</td>\n",
       "      <td>39.046875</td>\n",
       "    </tr>\n",
       "    <tr>\n",
       "      <th>387</th>\n",
       "      <td>82</td>\n",
       "      <td>84</td>\n",
       "      <td>82.593750</td>\n",
       "      <td>0</td>\n",
       "      <td>2</td>\n",
       "      <td>1.406250</td>\n",
       "      <td>36</td>\n",
       "      <td>38</td>\n",
       "      <td>37.406250</td>\n",
       "    </tr>\n",
       "    <tr>\n",
       "      <th>388</th>\n",
       "      <td>84</td>\n",
       "      <td>87</td>\n",
       "      <td>85.257812</td>\n",
       "      <td>0</td>\n",
       "      <td>3</td>\n",
       "      <td>1.742188</td>\n",
       "      <td>33</td>\n",
       "      <td>36</td>\n",
       "      <td>34.742188</td>\n",
       "    </tr>\n",
       "    <tr>\n",
       "      <th>389</th>\n",
       "      <td>87</td>\n",
       "      <td>94</td>\n",
       "      <td>89.960938</td>\n",
       "      <td>0</td>\n",
       "      <td>7</td>\n",
       "      <td>4.039062</td>\n",
       "      <td>26</td>\n",
       "      <td>33</td>\n",
       "      <td>30.039062</td>\n",
       "    </tr>\n",
       "    <tr>\n",
       "      <th>390</th>\n",
       "      <td>94</td>\n",
       "      <td>120</td>\n",
       "      <td>103.362500</td>\n",
       "      <td>0</td>\n",
       "      <td>26</td>\n",
       "      <td>16.637500</td>\n",
       "      <td>0</td>\n",
       "      <td>26</td>\n",
       "      <td>16.637500</td>\n",
       "    </tr>\n",
       "  </tbody>\n",
       "</table>\n",
       "<p>391 rows × 9 columns</p>\n",
       "</div>"
      ],
      "text/plain": [
       "     min_len  max_len     avg_len  pad_min  pad_max    pad_avg  fixed_pad_min  \\\n",
       "0          2        3    2.976562        0        1   0.023438            117   \n",
       "1          3        3    3.000000        0        0   0.000000            117   \n",
       "2          3        3    3.000000        0        0   0.000000            117   \n",
       "3          3        3    3.000000        0        0   0.000000            117   \n",
       "4          3        4    3.203125        0        1   0.796875            116   \n",
       "..       ...      ...         ...      ...      ...        ...            ...   \n",
       "386       80       82   80.953125        0        2   1.046875             38   \n",
       "387       82       84   82.593750        0        2   1.406250             36   \n",
       "388       84       87   85.257812        0        3   1.742188             33   \n",
       "389       87       94   89.960938        0        7   4.039062             26   \n",
       "390       94      120  103.362500        0       26  16.637500              0   \n",
       "\n",
       "     fixed_pad_max  fixed_pad_avg  \n",
       "0              118     117.023438  \n",
       "1              117     117.000000  \n",
       "2              117     117.000000  \n",
       "3              117     117.000000  \n",
       "4              117     116.796875  \n",
       "..             ...            ...  \n",
       "386             40      39.046875  \n",
       "387             38      37.406250  \n",
       "388             36      34.742188  \n",
       "389             33      30.039062  \n",
       "390             26      16.637500  \n",
       "\n",
       "[391 rows x 9 columns]"
      ]
     },
     "execution_count": 64,
     "metadata": {},
     "output_type": "execute_result"
    }
   ],
   "source": [
    "from torch.utils.data import DataLoader, SequentialSampler\n",
    "\n",
    "test_tokenized_sorted.set_format(\n",
    "    type=\"torch\",\n",
    "    columns=[\"input_ids\", \"attention_mask\", \"label\"]  # 필요에 따라 컬럼 추가\n",
    ")\n",
    "\n",
    "\n",
    "test_sorted_dataloader = DataLoader(\n",
    "    test_tokenized_sorted,\n",
    "    sampler=SequentialSampler(test_tokenized_sorted),               # Trainer 내부와 동일\n",
    "    batch_size=training_arguments.per_device_eval_batch_size,\n",
    "    collate_fn=exp_data_collator,\n",
    "    drop_last=False,                                         # Trainer 기본값\n",
    ")\n",
    "\n",
    "df_stats = pdding_stat_batch(test_sorted_dataloader)\n",
    "df_stats"
   ]
  },
  {
   "cell_type": "code",
   "execution_count": 65,
   "id": "68d61268",
   "metadata": {},
   "outputs": [
    {
     "data": {
      "image/png": "[encoded data removed]",
      "text/plain": [
       "<Figure size 1080x864 with 9 Axes>"
      ]
     },
     "metadata": {
      "needs_background": "light"
     },
     "output_type": "display_data"
    }
   ],
   "source": [
    "plot_padding_stat_batch(df_stats)"
   ]
  },
  {
   "cell_type": "markdown",
   "id": "8fd7b37d",
   "metadata": {},
   "source": [
    "### 학습 분석\n",
    "- 공통 \n",
    "    - Num examples = 116940\n",
    "    - Num Epochs = 3\n",
    "    - Total train batch size (w. parallel, distributed & accumulation) = 128\n",
    "    - Total optimization steps = 2742 (모델 파라미터 업데이트 step)\n",
    "- 기본 모델과 Bucket 차이\n",
    "    - Instantaneous batch size per device ( 기본 : 128  , Bucket : 64 )\n",
    "    - Gradient Accumulation steps ( 기본 : 1, Bucket : 2 )\n",
    "    - 동적 패딩 및 group by length 적용 ( 기본 : 미적용, Bucket : 적용 )\n",
    "- 학습 시간 및 연산 비용\n",
    "    - bucket의 학습 시간은 기본 대비 약 40%, flos 는 약 20% ( 왜 비례하지 않을까? )\n",
    "        - accumulation 적용은 flos에는 영향이 거의 없고 오버헤드로 인해 시간 5~15% 지연 가능성이 있음\n",
    "        - 동적 패딩 적용시 flos는 토큰 길이의 제곱에 비례하지만 시간은 flos 변화와 패딩 적용을 위한 오버헤드에 영향받음\n",
    "        - 종합적으로 보면 accumulation 으로 인한 오버헤드가 오히려 추가되었으나 동적 패딩 적용으로 연산량이 줄면서 시간 감소\n",
    "    - bucket 적용에 따른 연산 비용 및 시간\n",
    "        - 연산 비용(flos) : 데이터 길이가 짧은 분포가 많을수록 패딩이 많이 줄어들어 연산비용 감소\n",
    "        - 연산 오버헤드 : 동적 패딩 적용을 위한 버켓 생성 및 추출, 그리고 최대길이로의 패딩추가등의 시간 필요\n",
    "        - 연산 비용 감소로 인한 이득과 오버헤드를 비교해 연산 비용 감소로 인한 이득이 큰 경우에만 적용 효과를 볼 수 있음\n",
    " \n",
    "- 학습 \n",
    "    - 평균 훈련 loss 나 최종 loss 모두 baseline 이 낮지만 미미한 차이로 보임\n",
    "    - bucket 의 경우 group by length 적용시 batch 별 학습 길이에 따른 편향된 정보가 학습될 가능성이 있음\n",
    "\n",
    "- 검증\n",
    "    - epoch 별 메트릭 외에 검증 관련 내용 기록이 없음 메트릭만 분석\n",
    "    - train loss와 마찬가지로 accuracy나 f1 모두 기본이 미미하게 좋음\n",
    "    - 검증시에는 group by length가 적용되지 않음 -> 학습 과정에서 편향 가능성을 줄여주는 역활을 할 것으로 기대\n",
    "    - 검증 시간 로그가 남지 않아 검증 시간에 대한 분석은 제외 ( 테스트와 비슷하니 테스트 분석에서 분석 )\n",
    "\n",
    " * 기본 모델 훈련 정보를 변수에 저장 안한 상태에서 모델과 trainer를 지워서 로그를 토대로 결과 표시"
   ]
  },
  {
   "cell_type": "code",
   "execution_count": 76,
   "id": "bf4242ce",
   "metadata": {
    "scrolled": true
   },
   "outputs": [
    {
     "data": {
      "text/html": [
       "<div>\n",
       "<style scoped>\n",
       "    .dataframe tbody tr th:only-of-type {\n",
       "        vertical-align: middle;\n",
       "    }\n",
       "\n",
       "    .dataframe tbody tr th {\n",
       "        vertical-align: top;\n",
       "    }\n",
       "\n",
       "    .dataframe thead th {\n",
       "        text-align: right;\n",
       "    }\n",
       "</style>\n",
       "<table border=\"1\" class=\"dataframe\">\n",
       "  <thead>\n",
       "    <tr style=\"text-align: right;\">\n",
       "      <th></th>\n",
       "      <th>train_runtime</th>\n",
       "      <th>train_samples_per_second</th>\n",
       "      <th>train_steps_per_second</th>\n",
       "      <th>total_flos</th>\n",
       "      <th>train_loss</th>\n",
       "      <th>epoch</th>\n",
       "    </tr>\n",
       "  </thead>\n",
       "  <tbody>\n",
       "    <tr>\n",
       "      <th>baseline</th>\n",
       "      <td>3589.1197</td>\n",
       "      <td>97.745</td>\n",
       "      <td>0.764</td>\n",
       "      <td>2.163390e+16</td>\n",
       "      <td>0.230666</td>\n",
       "      <td>3.0</td>\n",
       "    </tr>\n",
       "    <tr>\n",
       "      <th>bucket</th>\n",
       "      <td>1453.9202</td>\n",
       "      <td>241.292</td>\n",
       "      <td>1.886</td>\n",
       "      <td>4.324206e+15</td>\n",
       "      <td>0.236882</td>\n",
       "      <td>3.0</td>\n",
       "    </tr>\n",
       "  </tbody>\n",
       "</table>\n",
       "</div>"
      ],
      "text/plain": [
       "          train_runtime  train_samples_per_second  train_steps_per_second  \\\n",
       "baseline      3589.1197                    97.745                   0.764   \n",
       "bucket        1453.9202                   241.292                   1.886   \n",
       "\n",
       "            total_flos  train_loss  epoch  \n",
       "baseline  2.163390e+16    0.230666    3.0  \n",
       "bucket    4.324206e+15    0.236882    3.0  "
      ]
     },
     "execution_count": 76,
     "metadata": {},
     "output_type": "execute_result"
    }
   ],
   "source": [
    "pd.DataFrame([{'train_runtime': 3589.1197, 'train_samples_per_second': 97.745, 'train_steps_per_second': 0.764, 'total_flos': 2.1633895415952e+16, 'train_loss': 0.23066589277561, 'epoch': 3.0},{'train_runtime': 1453.9202, 'train_samples_per_second': 241.292, 'train_steps_per_second': 1.886, 'total_flos': 4324205528180160.0, 'train_loss': 0.23688198231503008, 'epoch': 3.0}],\n",
    "    index=[\"baseline\", \"bucket\"])\n"
   ]
  },
  {
   "cell_type": "markdown",
   "id": "388a80ee",
   "metadata": {},
   "source": [
    "### 테스트 분석\n",
    "- 공통\n",
    "    - Num examples = 50000\n",
    "    - Batch size = 128\n",
    "- 기본 모델과 Bucket 및 sort 차이\n",
    "    - 동적 패딩 적용 : bucket , bucket&sort\n",
    "    - 모두 순서대로 group 화 되나 bucket&sort의 경우 순서를 길이 순으로 정렬해 group by length 와 유사한 효과를 줌\n",
    "- 테스트 평가지표 \n",
    "    - bucket 적용시의 지표가 미세하게 좋으나 이 역시 미미함\n",
    "    - bucket 적용시 그로 인한 모델 성능 상의 향상이나 저해가 없는 것으로 보임 ( 다른 설정이나 데이터에서는 다를 수 있음 )\n",
    "- 테스트 속도\n",
    "    - 테스트 속도 면에서는 bucket&sort, bucket, baseline 순으로 좋은 것으로 나타남\n",
    "    - 학습에서 시간에 대해 분석한 내용과 마찬가지로 패딩에 따른 연산 및 오버헤드로 인한 영향으로 보임\n",
    "    - 동적 패딩 사용시 테스트용 데이터를 길이로 정렬하는 경우 결과에는 영향을 미치지 않고 속도가 향상됨\n",
    "    - 본 실험 데이터 정렬에 드는 시간은 0.01초로 시간 대비 오버헤드는 거의 없는 수준으로 정렬시 시간 단축 효과를 볼 수 있음\n",
    "    - 일반화해보면 토큰 길이 분포 등에 따라 영향이 있을 수 있으므로 오버헤드 대비 시간 이득에 따라 정렬을 사용하면 학습시간을 단축할 수 있을 것으로 보임 "
   ]
  },
  {
   "cell_type": "code",
   "execution_count": 77,
   "id": "3de549b2",
   "metadata": {},
   "outputs": [
    {
     "data": {
      "text/html": [
       "<div>\n",
       "<style scoped>\n",
       "    .dataframe tbody tr th:only-of-type {\n",
       "        vertical-align: middle;\n",
       "    }\n",
       "\n",
       "    .dataframe tbody tr th {\n",
       "        vertical-align: top;\n",
       "    }\n",
       "\n",
       "    .dataframe thead th {\n",
       "        text-align: right;\n",
       "    }\n",
       "</style>\n",
       "<table border=\"1\" class=\"dataframe\">\n",
       "  <thead>\n",
       "    <tr style=\"text-align: right;\">\n",
       "      <th></th>\n",
       "      <th>eval_loss</th>\n",
       "      <th>eval_accuracy</th>\n",
       "      <th>eval_f1</th>\n",
       "      <th>eval_runtime</th>\n",
       "      <th>eval_samples_per_second</th>\n",
       "      <th>eval_steps_per_second</th>\n",
       "      <th>epoch</th>\n",
       "    </tr>\n",
       "  </thead>\n",
       "  <tbody>\n",
       "    <tr>\n",
       "      <th>baseline</th>\n",
       "      <td>0.258255</td>\n",
       "      <td>0.90184</td>\n",
       "      <td>0.901832</td>\n",
       "      <td>430.6607</td>\n",
       "      <td>116.101</td>\n",
       "      <td>0.908</td>\n",
       "      <td>3.0</td>\n",
       "    </tr>\n",
       "    <tr>\n",
       "      <th>bucket</th>\n",
       "      <td>0.256060</td>\n",
       "      <td>0.90188</td>\n",
       "      <td>0.901873</td>\n",
       "      <td>325.9863</td>\n",
       "      <td>153.381</td>\n",
       "      <td>1.199</td>\n",
       "      <td>3.0</td>\n",
       "    </tr>\n",
       "    <tr>\n",
       "      <th>bucket&amp;sort</th>\n",
       "      <td>0.256060</td>\n",
       "      <td>0.90188</td>\n",
       "      <td>0.901873</td>\n",
       "      <td>101.0823</td>\n",
       "      <td>494.647</td>\n",
       "      <td>3.868</td>\n",
       "      <td>3.0</td>\n",
       "    </tr>\n",
       "  </tbody>\n",
       "</table>\n",
       "</div>"
      ],
      "text/plain": [
       "             eval_loss  eval_accuracy   eval_f1  eval_runtime  \\\n",
       "baseline      0.258255        0.90184  0.901832      430.6607   \n",
       "bucket        0.256060        0.90188  0.901873      325.9863   \n",
       "bucket&sort   0.256060        0.90188  0.901873      101.0823   \n",
       "\n",
       "             eval_samples_per_second  eval_steps_per_second  epoch  \n",
       "baseline                     116.101                  0.908    3.0  \n",
       "bucket                       153.381                  1.199    3.0  \n",
       "bucket&sort                  494.647                  3.868    3.0  "
      ]
     },
     "execution_count": 77,
     "metadata": {},
     "output_type": "execute_result"
    }
   ],
   "source": [
    "pd.DataFrame([\n",
    "    {'eval_loss': 0.2582551836967468,\n",
    "     'eval_accuracy': 0.90184,\n",
    "     'eval_f1': 0.9018317078654844,\n",
    "     'eval_runtime': 430.6607,\n",
    "     'eval_samples_per_second': 116.101,\n",
    "     'eval_steps_per_second': 0.908,\n",
    "     'epoch': 3.0},\n",
    "    {'eval_loss': 0.2560597062110901,\n",
    "     'eval_accuracy': 0.90188,\n",
    "     'eval_f1': 0.9018726138861791,\n",
    "     'eval_runtime': 325.9863,\n",
    "     'eval_samples_per_second': 153.381,\n",
    "     'eval_steps_per_second': 1.199,\n",
    "     'epoch': 3.0},\n",
    "\n",
    "     {'eval_loss': 0.2560596764087677,\n",
    "     'eval_accuracy': 0.90188,\n",
    "     'eval_f1': 0.9018726138861791,\n",
    "     'eval_runtime': 101.0823,\n",
    "     'eval_samples_per_second': 494.647,\n",
    "     'eval_steps_per_second': 3.868,\n",
    "     'epoch': 3.0}\n",
    "    ],\n",
    "    index=[\"baseline\", \"bucket\",\"bucket&sort\"])"
   ]
  },
  {
   "cell_type": "markdown",
   "id": "273e30b5",
   "metadata": {},
   "source": [
    "## 회고\n",
    "#### 좋았던 점\n",
    "- batch 별 패딩을 확인한 점\n",
    "    - 추가 실험시 토크나이징 후 split 함수 적용을 빼먹어 이전 학습에 사용된 split 데이터를 사용하여 이번 모델과 패딩수가 같게 나온적이 있는데 패딩을 확인하지 않았다면 결과가 비슷하다라는 결론을 내리고 넘어갔을듯함\n",
    "    - 학습 과정과 검증과정에서 group by length가 다르게 적용된다 등 추가적으로 알 수 있는 부분이 있었고 분석 과정에서 더 궁금한 것들이 생겨 알아보다 보니 더 많은 것을 공부할 수 있었음\n",
    "    \n",
    "#### 아쉬운 점\n",
    "- 메모리로 인해 batch size 128을 적용하지 못하고 size 64 에 2 step에 한번 optimize하도록 적용한 부분 \n",
    "    - 동일 batch 처럼 학습하는 것을 기대했으나 실제로는 64와 더 비슷한 동작\n",
    "- 팀이 적용한 것들을 고려해 큰 batch를 잡아 문제가 있어 팀 결과를 취합해보지 못한 부분\n",
    "- 기본적은 남는 로그들과 데이터를 이용했는데 추가적으로 로그와 기록을 남겨서 실험했으면 하는 부분이 있음 \n",
    "    - 예를 들어 검증시간이나 실제 peak 메모리등 \n",
    "\n",
    "\n",
    "#### 배운 점 \n",
    "- 메모리 이슈로 인해서 메모리 부족을 해결하는 과정에서 메모리 관리 관련 부분에 대해 더 자세히 이해\n",
    "- 메모리를 해결하는 과정에서 accumulation_steps 를 적용하고 결과를 분석하는 과정에서 학습 과정과 optimization 과정에 batch 관련 좀 더 자세히 공부함\n",
    "- 분석 과정에서 bucket 과 연산비용 시간과의 관계 및 버켓의 좀 더 세부적인 동작등에 대해서 알게되었음\n",
    "\n",
    "#### 나중에 추가로 해볼만한 부분\n",
    "- batch size 128에 bucketing을 적용해 bucketing 만 다른 경우를 추가 실험\n",
    "- 팀원들의 결과를 github를 통해 확인하고 비교해 보는 것도 의미가 있을 수 있음\n",
    "- 데이터 길이 분포가 다른 데이터에 대한 버케팅 적용시 실제 학습 시간등 비교\n",
    "- 길이 편향이 발생하는지 확인 -  구간별 차이가 있는지 확인\n",
    "\n",
    "#### 개인적 회고\n",
    "- 분석하고 알아보는것은 재밌는데 이걸 정리해서 보고서 형식으로 잘 전달하는건 어렵기도하지만 매우 귀찮은 작업이다. 하지만 이런건 잘해야되는데라고 생각함\n",
    "- 비교 실험을 하다보면 다하고 나면 그제서야 이것을 기록할걸 이걸 해볼걸하는 것들이 늘 있는 것 같다. 아쉽지만 또 다른 실험이나 다른 프로젝트를 할 때 생각했던 부분들을 적용해볼 수 있으니 그런 아쉬움도 공부의 영역으로 남겨야할 것 같다.\n"
   ]
  },
  {
   "cell_type": "code",
   "execution_count": null,
   "id": "ac605d0d",
   "metadata": {},
   "outputs": [],
   "source": []
  }
 ],
 "metadata": {
  "kernelspec": {
   "display_name": "Python 3 (ipykernel)",
   "language": "python",
   "name": "python3"
  },
  "language_info": {
   "codemirror_mode": {
    "name": "ipython",
    "version": 3
   },
   "file_extension": ".py",
   "mimetype": "text/x-python",
   "name": "python",
   "nbconvert_exporter": "python",
   "pygments_lexer": "ipython3",
   "version": "3.9.7"
  }
 },
 "nbformat": 4,
 "nbformat_minor": 5
}
